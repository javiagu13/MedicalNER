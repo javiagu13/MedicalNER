{
  "nbformat": 4,
  "nbformat_minor": 0,
  "metadata": {
    "colab": {
      "name": "medNer-CUI-version.ipynb",
      "provenance": [],
      "collapsed_sections": [],
      "toc_visible": true
    },
    "kernelspec": {
      "display_name": "Python 3",
      "name": "python3"
    },
    "language_info": {
      "name": "python"
    },
    "accelerator": "GPU"
  },
  "cells": [
    {
      "cell_type": "code",
      "metadata": {
        "id": "KtXs8Ygnbpch",
        "colab": {
          "base_uri": "https://localhost:8080/"
        },
        "outputId": "9394157a-9f8a-48ce-c49f-ee617fb4528a"
      },
      "source": [
        "#!pip install --upgrade google-api-python-client\n",
        "#!pip install --user google-colab\n",
        "from google.colab import drive\n",
        "drive.mount('/content/drive')"
      ],
      "execution_count": null,
      "outputs": [
        {
          "output_type": "stream",
          "text": [
            "Mounted at /content/drive\n"
          ],
          "name": "stdout"
        }
      ]
    },
    {
      "cell_type": "markdown",
      "metadata": {
        "id": "WhMZw10lLvmS"
      },
      "source": [
        "###IMPORTANT-> DO NOT RUN THIS PART UNLESS YOU WANT TO CREATE NEW TRAINING TEST AND DEV DATASETS."
      ]
    },
    {
      "cell_type": "markdown",
      "metadata": {
        "id": "P7fcxPapDf1e"
      },
      "source": [
        "### CREATING TEST, TRAIN AND DEV FROM MEDMENTIONS CORPUS"
      ]
    },
    {
      "cell_type": "markdown",
      "metadata": {
        "id": "ipuAjaI5CZ1C"
      },
      "source": [
        "READING FILES: dev, test, train and corpus"
      ]
    },
    {
      "cell_type": "code",
      "metadata": {
        "id": "u8i4hMnkb6U1"
      },
      "source": [
        "#read file DEV\n",
        "devTxt=\"/content/drive/MyDrive/medNer/corpus_pubtator_pmids_dev.txt\"\n",
        "with open(devTxt, \"r\") as file1:\n",
        "    devTxtList = file1.readlines()\n",
        "#delete \\n at the end of every line    \n",
        "for i in range(0,len(devTxtList)):\n",
        "  devTxtList[i]=devTxtList[i].split('\\n')[0]\n",
        "\n",
        "\n",
        "#read file TEST\n",
        "testTxt=\"/content/drive/MyDrive/medNer/corpus_pubtator_pmids_test.txt\"\n",
        "with open(testTxt, \"r\") as file2:\n",
        "    testTxtList = file2.readlines()\n",
        "#delete \\n at the end of every line    \n",
        "for i in range(0,len(testTxtList)):\n",
        "  testTxtList[i]=testTxtList[i].split('\\n')[0]\n",
        "\n",
        "\n",
        "#read file TRAIN\n",
        "trngTxt=\"/content/drive/MyDrive/medNer/corpus_pubtator_pmids_trng.txt\"\n",
        "with open(trngTxt, \"r\") as file3:\n",
        "    trngTxtList = file3.readlines()\n",
        "#delete \\n at the end of every line    \n",
        "for i in range(0,len(trngTxtList)):\n",
        "  trngTxtList[i]=trngTxtList[i].split('\\n')[0]\n",
        "\n",
        "\n",
        "#read file CORPUS\n",
        "corpusTxt=\"/content/drive/MyDrive/medNer/corpus_pubtator.txt\"\n",
        "with open(corpusTxt, \"r\") as file4:\n",
        "    corpusTxtList = file4.readlines()\n"
      ],
      "execution_count": null,
      "outputs": []
    },
    {
      "cell_type": "markdown",
      "metadata": {
        "id": "Inr-XM4KmEzd"
      },
      "source": [
        "LOADING TOKENIZER"
      ]
    },
    {
      "cell_type": "code",
      "metadata": {
        "id": "blqFT1nkIWjV"
      },
      "source": [
        "#DE PRUEBAS\n",
        "# http://sentiment.christopherpotts.net/code-data/happyfuntokenizing.py -en bertsio motza\n",
        "import nltk, re, json\n",
        "import spacy\n",
        "from collections import Counter\n",
        "# Ordena garrantzitsua da  (lehenetik azkenera egiten dire parekatzeak)\n",
        "\n",
        "# Erabiltzaile-izenak batera mantendu (@ ikurraz hasitako edozein token, eta ondoren A-Z, a-z, 0-9)\n",
        "regexes=(\n",
        "# zuriunea ez den beste edozer\n",
        "r\"(?:\\w+\\.\\w+)\", \n",
        "#symbols\n",
        "r\"(?:[\\<\\>\\=\\+|\\-|\\/|\\*\\\\\\'\\\"|\\%|\\w]+)\",   \n",
        "\n",
        "# hashtag-ak elkarrekin mantendu (# ikurraz hasitako edozein token, eta ondoren A-Z, a-z, 0-9, _, edo -)\n",
        "r\"(?:\\#+[\\w_]+[\\w\\'_\\-]*[\\w_]+)\",\n",
        "\n",
        "\n",
        ")\n",
        "\n",
        "big_regex=\"|\".join(regexes)\n",
        "\n",
        "my_extensible_tokenizer = re.compile(big_regex, re.VERBOSE | re.I | re.UNICODE)\n",
        "\n",
        "def my_extensible_tokenize(text):\n",
        "    return my_extensible_tokenizer.findall(text)"
      ],
      "execution_count": null,
      "outputs": []
    },
    {
      "cell_type": "markdown",
      "metadata": {
        "id": "z_0jKf0RCxDu"
      },
      "source": [
        "CREATING A FUNCTION TO NORMALIZE ANY STRING USING THE TOKENIZER"
      ]
    },
    {
      "cell_type": "code",
      "metadata": {
        "id": "P1MdXkSXLGtT"
      },
      "source": [
        "def normalizeString(string):\n",
        "  #print(string)\n",
        "  last_char = string[-1]\n",
        "  isEndOrComma=None\n",
        "\n",
        "  if last_char == '.':\n",
        "    isEndOrComma=\"END\"\n",
        "  if last_char == ',':\n",
        "    isEndOrComma=\"COMMA\"\n",
        "    \n",
        "  string=my_extensible_tokenize(string)\n",
        "  #print(string)\n",
        "  if len(string)==0:\n",
        "    return \"\", isEndOrComma\n",
        "  else:\n",
        "    return string[0], isEndOrComma"
      ],
      "execution_count": null,
      "outputs": []
    },
    {
      "cell_type": "code",
      "metadata": {
        "colab": {
          "base_uri": "https://localhost:8080/"
        },
        "id": "3hgG1mKFId0I",
        "outputId": "a6e19d32-4057-4d17-9542-ef87eb541149"
      },
      "source": [
        "normalizeString(\"(hola,)\")"
      ],
      "execution_count": null,
      "outputs": [
        {
          "output_type": "execute_result",
          "data": {
            "text/plain": [
              "('hola', None)"
            ]
          },
          "metadata": {
            "tags": []
          },
          "execution_count": 5
        }
      ]
    },
    {
      "cell_type": "markdown",
      "metadata": {
        "id": "1zV8s4Rdh0BL"
      },
      "source": [
        "CREATING FUNCTIONS FOR CREATING TSV FILES FOR TRAINING DEV AND TEST"
      ]
    },
    {
      "cell_type": "code",
      "metadata": {
        "collapsed": true,
        "id": "lizzgEu_rmD1"
      },
      "source": [
        "import csv\n",
        "\n",
        "def textToTokens(title, paper):\n",
        "  title=title.split()\n",
        "  paper=paper.split()\n",
        "  title[0]=title[0].split('|t|')[1]\n",
        "  paper[0]=paper[0].split('|a|')[1]\n",
        "  text = title+paper\n",
        "  #print(text)\n",
        "  return text\n",
        "  \n",
        "def textAndBItoTSV(tsv_writer, text, BI):#\n",
        "\n",
        "  textCount=0\n",
        "  for i in BI:\n",
        "    word = i[0].split()\n",
        "    CUI=i[1].rstrip(\"\\n\")\n",
        "    #print(word[0])\n",
        "    #print(text[textCount])\n",
        "    for w in range(0,len(word)):\n",
        "      #print(\"for\")\n",
        "      if textCount<len(text): #puede que sea <=\n",
        "\n",
        "        #normalize strings\n",
        "        #print(\"word[w]\"+str(word[w]))\n",
        "        word[w], isEndOrComma=normalizeString(word[w])\n",
        "        #print(\"text[textCount\"+str(textCount)+\"]\"+str(text[textCount]))\n",
        "        text[textCount], isEndOrComma=normalizeString(text[textCount])\n",
        "\n",
        "        if word[w]==text[textCount]:\n",
        "          if w==0:\n",
        "            #print(word[w])\n",
        "            #print(text[textCount])\n",
        "            if word[w]!=\"\" and text[textCount]!=\"\":\n",
        "              tsv_writer.writerow([text[textCount].lower(), 'B-'+CUI ])\n",
        "              #print(\"B\")\n",
        "              #print(\"word: \"+str(word[w]))\n",
        "              #print(\"textCount: \"+str(text[textCount]))\n",
        "              if isEndOrComma==\"END\":\n",
        "                tsv_writer.writerow([\".\", 'O'])\n",
        "                tsv_writer.writerow([\"\", ''])\n",
        "              if isEndOrComma==\"COMMA\":\n",
        "                tsv_writer.writerow([\",\", 'O'])\n",
        "\n",
        "            textCount+=1\n",
        "            \n",
        "          else:\n",
        "            if word[w]!=\"\" and text[textCount]!=\"\":\n",
        "              tsv_writer.writerow([text[textCount].lower(), 'I-'+CUI])\n",
        "              #print(\"I\")\n",
        "              #print(\"word: \"+str(word[w]))\n",
        "              #print(\"textCount: \"+str(text[textCount]))\n",
        "              if isEndOrComma==\"END\":\n",
        "                tsv_writer.writerow([\".\", 'O'])\n",
        "                tsv_writer.writerow([\"\", ''])\n",
        "              if isEndOrComma==\"COMMA\":\n",
        "                tsv_writer.writerow([\",\", 'O'])\n",
        "            textCount+=1\n",
        "            \n",
        "        else:\n",
        "          justEntered=True\n",
        "          while textCount<len(text)-1:\n",
        "            #print(\"while\")\n",
        "            if justEntered==False:\n",
        "              #print(\"word[w]\"+str(word[w]))\n",
        "              word[w], isEndOrComma=normalizeString(word[w])\n",
        "              #print(normalizeString(text[textCount]))\n",
        "              #print(\"text[textCount\"+str(textCount)+\"]\"+str(text[textCount]))\n",
        "              text[textCount], isEndOrComma=normalizeString(text[textCount])\n",
        "            justEntered=False\n",
        "            if word[w]!=text[textCount]:\n",
        "              if word[w]!=\"\" and text[textCount]!=\"\":\n",
        "                tsv_writer.writerow([text[textCount].lower(), 'O'])\n",
        "                if isEndOrComma==\"END\":\n",
        "                  tsv_writer.writerow([\".\", 'O'])\n",
        "                  tsv_writer.writerow([\"\", ''])\n",
        "                if isEndOrComma==\"COMMA\":\n",
        "                  tsv_writer.writerow([\",\", 'O'])\n",
        "\n",
        "              #print(\"O\")\n",
        "              #print(\"word: \"+str(word[w]))\n",
        "              #print(\"textCount: \"+str(text[textCount]))\n",
        "              textCount+=1\n",
        "            else:\n",
        "              if w==0:\n",
        "                #print(\"B\")\n",
        "                #print(\"word: \"+str(word[w]))\n",
        "                #print(\"textCount: \"+str(text[textCount]))\n",
        "                if word[w]!=\"\" and text[textCount]!=\"\":\n",
        "                  tsv_writer.writerow([text[textCount].lower(), 'B-'+CUI])\n",
        "                  if isEndOrComma==\"END\":\n",
        "                    tsv_writer.writerow([\".\", 'O'])\n",
        "                    tsv_writer.writerow([\"\", ''])\n",
        "                  if isEndOrComma==\"COMMA\":\n",
        "                    tsv_writer.writerow([\",\", 'O'])\n",
        "                textCount+=1\n",
        "                break\n",
        "              else:\n",
        "                #print(\"I\")\n",
        "                #print(\"word: \"+str(word[w]))\n",
        "                #print(\"textCount: \"+str(text[textCount]))\n",
        "                if word[w]!=\"\" and text[textCount]!=\"\":\n",
        "                  tsv_writer.writerow([text[textCount].lower(), 'I-'+CUI])\n",
        "                  if isEndOrComma==\"END\":\n",
        "                    tsv_writer.writerow([\".\", 'O'])\n",
        "                    tsv_writer.writerow([\"\", ''])\n",
        "                  if isEndOrComma==\"COMMA\":\n",
        "                    tsv_writer.writerow([\",\", 'O'])\n",
        "                textCount+=1\n",
        "                break\n",
        "         \n",
        "        \n",
        "\n"
      ],
      "execution_count": null,
      "outputs": []
    },
    {
      "cell_type": "markdown",
      "metadata": {
        "id": "keeY43VSBSzw"
      },
      "source": [
        "CREATING TRAINING SET"
      ]
    },
    {
      "cell_type": "code",
      "metadata": {
        "id": "1d38I3Bpd0zU"
      },
      "source": [
        "inPaper=False\n",
        "titleRow=0\n",
        "paperRow=1\n",
        "BIbek=[]\n",
        "\n",
        "#COMMENT NEXT TWO LINES FOR WHOLE CORPUS\n",
        "#maxAmountOfPapers=100\n",
        "paperKont=0\n",
        "\n",
        "with open('/content/drive/MyDrive/medNer/medMentions-train-CUI-version.tsv', 'wt') as out_file:\n",
        "  tsv_writer = csv.writer(out_file, delimiter='\\t')\n",
        "\n",
        "  for i in range(0,len(corpusTxtList)):\n",
        "    \n",
        "    #beginning of paper\n",
        "    if(inPaper==False):\n",
        "      #number of paper\n",
        "      paperNumber=corpusTxtList[i+2].split('\\t')[0]\n",
        "      #title\n",
        "      currentTitle=corpusTxtList[i]\n",
        "      #paper\n",
        "      currentPaper=corpusTxtList[i+1]\n",
        "      #restarting BIbek\n",
        "      \n",
        "\n",
        "    #mid paper\n",
        "    if titleRow!=i and paperRow!=i and corpusTxtList[i]!='\\n':\n",
        "      #vector for storing begin and inside words\n",
        "      #print(corpusTxtList[i].split('\\t')[-1])\n",
        "      elemOfBek=[corpusTxtList[i].split('\\t')[3],corpusTxtList[i].split('\\t')[-1]]\n",
        "      BIbek.append(elemOfBek)\n",
        "    inPaper=True\n",
        "    #end of paper\n",
        "    if corpusTxtList[i]=='\\n':\n",
        "      titleRow=i+1\n",
        "      paperRow=i+2\n",
        "      inPaper=False\n",
        "      if paperNumber in trngTxtList:\n",
        "        #COMMENT NEXT LINE FOR WHOLE CORPUS\n",
        "        #if paperKont<maxAmountOfPapers:\n",
        "        textAndBItoTSV(tsv_writer, textToTokens(currentTitle, currentPaper),BIbek)\n",
        "          #COMMENT NEXT LINE FOR WHOLE CORPUS\n",
        "          #paperKont+=1\n",
        "      BIbek=[]\n"
      ],
      "execution_count": null,
      "outputs": []
    },
    {
      "cell_type": "markdown",
      "metadata": {
        "id": "kwioBaAuDCOR"
      },
      "source": [
        "CREATING TEST SET"
      ]
    },
    {
      "cell_type": "code",
      "metadata": {
        "id": "M7Qryto1C4AH"
      },
      "source": [
        "inPaper=False\n",
        "titleRow=0\n",
        "paperRow=1\n",
        "BIbek=[]\n",
        "\n",
        "#COMMENT NEXT TWO LINES FOR WHOLE CORPUS\n",
        "#maxAmountOfPapers=40\n",
        "paperKont=0\n",
        "\n",
        "with open('/content/drive/MyDrive/medNer/medMentions-test-CUI-version.tsv', 'wt') as out_file:\n",
        "  tsv_writer = csv.writer(out_file, delimiter='\\t')\n",
        "\n",
        "  for i in range(0,len(corpusTxtList)):\n",
        "    \n",
        "    #beginning of paper\n",
        "    if(inPaper==False):\n",
        "      #number of paper\n",
        "      paperNumber=corpusTxtList[i+2].split('\\t')[0]\n",
        "      #title\n",
        "      currentTitle=corpusTxtList[i]\n",
        "      #paper\n",
        "      currentPaper=corpusTxtList[i+1]\n",
        "      #restarting BIbek\n",
        "      \n",
        "\n",
        "    #mid paper\n",
        "    if titleRow!=i and paperRow!=i and corpusTxtList[i]!='\\n':\n",
        "      #vector for storing begin and inside words\n",
        "      elemOfBek=[corpusTxtList[i].split('\\t')[3],corpusTxtList[i].split('\\t')[-1]]\n",
        "      BIbek.append(elemOfBek)\n",
        "    inPaper=True\n",
        "    #end of paper\n",
        "    if corpusTxtList[i]=='\\n':\n",
        "      titleRow=i+1\n",
        "      paperRow=i+2\n",
        "      inPaper=False\n",
        "      if paperNumber in testTxtList:\n",
        "        #COMMENT NEXT LINE FOR WHOLE CORPUS\n",
        "        #if paperKont<maxAmountOfPapers:\n",
        "        textAndBItoTSV(tsv_writer, textToTokens(currentTitle, currentPaper),BIbek)\n",
        "          #COMMENT NEXT LINE FOR WHOLE CORPUS\n",
        "          #paperKont+=1\n",
        "      BIbek=[]\n"
      ],
      "execution_count": null,
      "outputs": []
    },
    {
      "cell_type": "markdown",
      "metadata": {
        "id": "Ji2ErFC0DKfm"
      },
      "source": [
        "CREATING DEV SET"
      ]
    },
    {
      "cell_type": "code",
      "metadata": {
        "id": "RjoX586NDILu"
      },
      "source": [
        "inPaper=False\n",
        "titleRow=0\n",
        "paperRow=1\n",
        "BIbek=[]\n",
        "\n",
        "#COMMENT NEXT TWO LINES FOR WHOLE CORPUS\n",
        "#maxAmountOfPapers=40\n",
        "paperKont=0\n",
        "\n",
        "with open('/content/drive/MyDrive/medNer/medMentions-dev-CUI-version.tsv', 'wt') as out_file:\n",
        "  tsv_writer = csv.writer(out_file, delimiter='\\t')\n",
        "\n",
        "  for i in range(0,len(corpusTxtList)):\n",
        "    \n",
        "    #beginning of paper\n",
        "    if(inPaper==False):\n",
        "      #number of paper\n",
        "      paperNumber=corpusTxtList[i+2].split('\\t')[0]\n",
        "      #title\n",
        "      currentTitle=corpusTxtList[i]\n",
        "      #paper\n",
        "      currentPaper=corpusTxtList[i+1]\n",
        "      #restarting BIbek\n",
        "      \n",
        "\n",
        "    #mid paper\n",
        "    if titleRow!=i and paperRow!=i and corpusTxtList[i]!='\\n':\n",
        "      #vector for storing begin and inside words\n",
        "      elemOfBek=[corpusTxtList[i].split('\\t')[3],corpusTxtList[i].split('\\t')[-1]]\n",
        "      BIbek.append(elemOfBek)\n",
        "    inPaper=True\n",
        "    #end of paper\n",
        "    if corpusTxtList[i]=='\\n':\n",
        "      titleRow=i+1\n",
        "      paperRow=i+2\n",
        "      inPaper=False\n",
        "      if paperNumber in devTxtList:\n",
        "        #COMMENT NEXT LINE FOR WHOLE CORPUS\n",
        "        #if paperKont<maxAmountOfPapers:\n",
        "          textAndBItoTSV(tsv_writer, textToTokens(currentTitle, currentPaper),BIbek)\n",
        "          #COMMENT NEXT LINE FOR WHOLE CORPUS\n",
        "          #paperKont+=1\n",
        "\n",
        "      BIbek=[]\n"
      ],
      "execution_count": null,
      "outputs": []
    },
    {
      "cell_type": "markdown",
      "metadata": {
        "id": "UKHwu1OZXNlk"
      },
      "source": [
        "###YOU CAN TEST THE TRAINING PART IF YOU ARE WILLING TO TRAIN AN ALREADY EXISTING MODEL"
      ]
    },
    {
      "cell_type": "markdown",
      "metadata": {
        "id": "3QkUODUWOm5Z"
      },
      "source": [
        "###TRAINING"
      ]
    },
    {
      "cell_type": "markdown",
      "metadata": {
        "id": "dS45OK6FOpnZ"
      },
      "source": [
        "Flair "
      ]
    },
    {
      "cell_type": "code",
      "metadata": {
        "colab": {
          "base_uri": "https://localhost:8080/"
        },
        "id": "-gUQIAesDPV2",
        "outputId": "31c040ba-0328-4422-edd9-30dca0ca8095"
      },
      "source": [
        "pip install --upgrade flair"
      ],
      "execution_count": null,
      "outputs": [
        {
          "output_type": "stream",
          "text": [
            "Collecting flair\n",
            "\u001b[?25l  Downloading https://files.pythonhosted.org/packages/f0/3a/1b46a0220d6176b22bcb9336619d1731301bc2c75fa926a9ef953e6e4d58/flair-0.8.0.post1-py3-none-any.whl (284kB)\n",
            "\r\u001b[K     |█▏                              | 10kB 15.0MB/s eta 0:00:01\r\u001b[K     |██▎                             | 20kB 11.7MB/s eta 0:00:01\r\u001b[K     |███▌                            | 30kB 6.8MB/s eta 0:00:01\r\u001b[K     |████▋                           | 40kB 3.1MB/s eta 0:00:01\r\u001b[K     |█████▊                          | 51kB 3.8MB/s eta 0:00:01\r\u001b[K     |███████                         | 61kB 4.1MB/s eta 0:00:01\r\u001b[K     |████████                        | 71kB 4.5MB/s eta 0:00:01\r\u001b[K     |█████████▏                      | 81kB 4.6MB/s eta 0:00:01\r\u001b[K     |██████████▍                     | 92kB 4.8MB/s eta 0:00:01\r\u001b[K     |███████████▌                    | 102kB 5.2MB/s eta 0:00:01\r\u001b[K     |████████████▋                   | 112kB 5.2MB/s eta 0:00:01\r\u001b[K     |█████████████▉                  | 122kB 5.2MB/s eta 0:00:01\r\u001b[K     |███████████████                 | 133kB 5.2MB/s eta 0:00:01\r\u001b[K     |████████████████                | 143kB 5.2MB/s eta 0:00:01\r\u001b[K     |█████████████████▎              | 153kB 5.2MB/s eta 0:00:01\r\u001b[K     |██████████████████▍             | 163kB 5.2MB/s eta 0:00:01\r\u001b[K     |███████████████████▋            | 174kB 5.2MB/s eta 0:00:01\r\u001b[K     |████████████████████▊           | 184kB 5.2MB/s eta 0:00:01\r\u001b[K     |█████████████████████▉          | 194kB 5.2MB/s eta 0:00:01\r\u001b[K     |███████████████████████         | 204kB 5.2MB/s eta 0:00:01\r\u001b[K     |████████████████████████▏       | 215kB 5.2MB/s eta 0:00:01\r\u001b[K     |█████████████████████████▎      | 225kB 5.2MB/s eta 0:00:01\r\u001b[K     |██████████████████████████▌     | 235kB 5.2MB/s eta 0:00:01\r\u001b[K     |███████████████████████████▋    | 245kB 5.2MB/s eta 0:00:01\r\u001b[K     |████████████████████████████▊   | 256kB 5.2MB/s eta 0:00:01\r\u001b[K     |██████████████████████████████  | 266kB 5.2MB/s eta 0:00:01\r\u001b[K     |███████████████████████████████ | 276kB 5.2MB/s eta 0:00:01\r\u001b[K     |████████████████████████████████| 286kB 5.2MB/s \n",
            "\u001b[?25hCollecting bpemb>=0.3.2\n",
            "  Downloading https://files.pythonhosted.org/packages/f2/6f/9191b85109772636a8f8accb122900c34db26c091d2793218aa94954524c/bpemb-0.3.3-py3-none-any.whl\n",
            "Requirement already satisfied, skipping upgrade: python-dateutil>=2.6.1 in /usr/local/lib/python3.7/dist-packages (from flair) (2.8.1)\n",
            "Requirement already satisfied, skipping upgrade: scikit-learn>=0.21.3 in /usr/local/lib/python3.7/dist-packages (from flair) (0.22.2.post1)\n",
            "Collecting konoha<5.0.0,>=4.0.0\n",
            "  Downloading https://files.pythonhosted.org/packages/02/be/4dd30d56a0a19619deb9bf41ba8202709fa83b1b301b876572cd6dc38117/konoha-4.6.4-py3-none-any.whl\n",
            "Collecting segtok>=1.5.7\n",
            "  Downloading https://files.pythonhosted.org/packages/41/08/582dab5f4b1d5ca23bc6927b4bb977c8ff7f3a87a3b98844ef833e2f5623/segtok-1.5.10.tar.gz\n",
            "Requirement already satisfied, skipping upgrade: hyperopt>=0.1.1 in /usr/local/lib/python3.7/dist-packages (from flair) (0.1.2)\n",
            "Collecting deprecated>=1.2.4\n",
            "  Downloading https://files.pythonhosted.org/packages/fb/73/994edfcba74443146c84b91921fcc269374354118d4f452fb0c54c1cbb12/Deprecated-1.2.12-py2.py3-none-any.whl\n",
            "Collecting sqlitedict>=1.6.0\n",
            "  Downloading https://files.pythonhosted.org/packages/5c/2d/b1d99e9ad157dd7de9cd0d36a8a5876b13b55e4b75f7498bc96035fb4e96/sqlitedict-1.7.0.tar.gz\n",
            "Collecting gdown==3.12.2\n",
            "  Downloading https://files.pythonhosted.org/packages/50/21/92c3cfe56f5c0647145c4b0083d0733dd4890a057eb100a8eeddf949ffe9/gdown-3.12.2.tar.gz\n",
            "  Installing build dependencies ... \u001b[?25l\u001b[?25hdone\n",
            "  Getting requirements to build wheel ... \u001b[?25l\u001b[?25hdone\n",
            "    Preparing wheel metadata ... \u001b[?25l\u001b[?25hdone\n",
            "Collecting langdetect\n",
            "\u001b[?25l  Downloading https://files.pythonhosted.org/packages/56/a3/8407c1e62d5980188b4acc45ef3d94b933d14a2ebc9ef3505f22cf772570/langdetect-1.0.8.tar.gz (981kB)\n",
            "\u001b[K     |████████████████████████████████| 983kB 9.8MB/s \n",
            "\u001b[?25hCollecting janome\n",
            "\u001b[?25l  Downloading https://files.pythonhosted.org/packages/a8/63/98858cbead27df7536c7e300c169da0999e9704d02220dc6700b804eeff0/Janome-0.4.1-py2.py3-none-any.whl (19.7MB)\n",
            "\u001b[K     |████████████████████████████████| 19.7MB 1.9MB/s \n",
            "\u001b[?25hRequirement already satisfied, skipping upgrade: matplotlib>=2.2.3 in /usr/local/lib/python3.7/dist-packages (from flair) (3.2.2)\n",
            "Collecting sentencepiece==0.1.95\n",
            "\u001b[?25l  Downloading https://files.pythonhosted.org/packages/f5/99/e0808cb947ba10f575839c43e8fafc9cc44e4a7a2c8f79c60db48220a577/sentencepiece-0.1.95-cp37-cp37m-manylinux2014_x86_64.whl (1.2MB)\n",
            "\u001b[K     |████████████████████████████████| 1.2MB 42.9MB/s \n",
            "\u001b[?25hRequirement already satisfied, skipping upgrade: regex in /usr/local/lib/python3.7/dist-packages (from flair) (2019.12.20)\n",
            "Collecting huggingface-hub\n",
            "  Downloading https://files.pythonhosted.org/packages/a1/88/7b1e45720ecf59c6c6737ff332f41c955963090a18e72acbcbeac6b25e86/huggingface_hub-0.0.8-py3-none-any.whl\n",
            "Requirement already satisfied, skipping upgrade: numpy<1.20.0 in /usr/local/lib/python3.7/dist-packages (from flair) (1.19.5)\n",
            "Requirement already satisfied, skipping upgrade: lxml in /usr/local/lib/python3.7/dist-packages (from flair) (4.2.6)\n",
            "Collecting torch<=1.7.1,>=1.5.0\n",
            "\u001b[?25l  Downloading https://files.pythonhosted.org/packages/90/5d/095ddddc91c8a769a68c791c019c5793f9c4456a688ddd235d6670924ecb/torch-1.7.1-cp37-cp37m-manylinux1_x86_64.whl (776.8MB)\n",
            "\u001b[K     |████████████████████████████████| 776.8MB 25kB/s \n",
            "\u001b[?25hRequirement already satisfied, skipping upgrade: tabulate in /usr/local/lib/python3.7/dist-packages (from flair) (0.8.9)\n",
            "Requirement already satisfied, skipping upgrade: tqdm>=4.26.0 in /usr/local/lib/python3.7/dist-packages (from flair) (4.41.1)\n",
            "Collecting mpld3==0.3\n",
            "\u001b[?25l  Downloading https://files.pythonhosted.org/packages/91/95/a52d3a83d0a29ba0d6898f6727e9858fe7a43f6c2ce81a5fe7e05f0f4912/mpld3-0.3.tar.gz (788kB)\n",
            "\u001b[K     |████████████████████████████████| 798kB 38.2MB/s \n",
            "\u001b[?25hRequirement already satisfied, skipping upgrade: gensim<=3.8.3,>=3.4.0 in /usr/local/lib/python3.7/dist-packages (from flair) (3.6.0)\n",
            "Collecting transformers>=4.0.0\n",
            "\u001b[?25l  Downloading https://files.pythonhosted.org/packages/d8/b2/57495b5309f09fa501866e225c84532d1fd89536ea62406b2181933fb418/transformers-4.5.1-py3-none-any.whl (2.1MB)\n",
            "\u001b[K     |████████████████████████████████| 2.1MB 39.9MB/s \n",
            "\u001b[?25hCollecting ftfy\n",
            "\u001b[?25l  Downloading https://files.pythonhosted.org/packages/ce/b5/5da463f9c7823e0e575e9908d004e2af4b36efa8d02d3d6dad57094fcb11/ftfy-6.0.1.tar.gz (63kB)\n",
            "\u001b[K     |████████████████████████████████| 71kB 9.1MB/s \n",
            "\u001b[?25hRequirement already satisfied, skipping upgrade: requests in /usr/local/lib/python3.7/dist-packages (from bpemb>=0.3.2->flair) (2.23.0)\n",
            "Requirement already satisfied, skipping upgrade: six>=1.5 in /usr/local/lib/python3.7/dist-packages (from python-dateutil>=2.6.1->flair) (1.15.0)\n",
            "Requirement already satisfied, skipping upgrade: scipy>=0.17.0 in /usr/local/lib/python3.7/dist-packages (from scikit-learn>=0.21.3->flair) (1.4.1)\n",
            "Requirement already satisfied, skipping upgrade: joblib>=0.11 in /usr/local/lib/python3.7/dist-packages (from scikit-learn>=0.21.3->flair) (1.0.1)\n",
            "Requirement already satisfied, skipping upgrade: importlib-metadata<4.0.0,>=3.7.0 in /usr/local/lib/python3.7/dist-packages (from konoha<5.0.0,>=4.0.0->flair) (3.10.1)\n",
            "Collecting overrides<4.0.0,>=3.0.0\n",
            "  Downloading https://files.pythonhosted.org/packages/ff/b1/10f69c00947518e6676bbd43e739733048de64b8dd998e9c2d5a71f44c5d/overrides-3.1.0.tar.gz\n",
            "Requirement already satisfied, skipping upgrade: future in /usr/local/lib/python3.7/dist-packages (from hyperopt>=0.1.1->flair) (0.16.0)\n",
            "Requirement already satisfied, skipping upgrade: networkx in /usr/local/lib/python3.7/dist-packages (from hyperopt>=0.1.1->flair) (2.5.1)\n",
            "Requirement already satisfied, skipping upgrade: pymongo in /usr/local/lib/python3.7/dist-packages (from hyperopt>=0.1.1->flair) (3.11.3)\n",
            "Requirement already satisfied, skipping upgrade: wrapt<2,>=1.10 in /usr/local/lib/python3.7/dist-packages (from deprecated>=1.2.4->flair) (1.12.1)\n",
            "Requirement already satisfied, skipping upgrade: filelock in /usr/local/lib/python3.7/dist-packages (from gdown==3.12.2->flair) (3.0.12)\n",
            "Requirement already satisfied, skipping upgrade: cycler>=0.10 in /usr/local/lib/python3.7/dist-packages (from matplotlib>=2.2.3->flair) (0.10.0)\n",
            "Requirement already satisfied, skipping upgrade: pyparsing!=2.0.4,!=2.1.2,!=2.1.6,>=2.0.1 in /usr/local/lib/python3.7/dist-packages (from matplotlib>=2.2.3->flair) (2.4.7)\n",
            "Requirement already satisfied, skipping upgrade: kiwisolver>=1.0.1 in /usr/local/lib/python3.7/dist-packages (from matplotlib>=2.2.3->flair) (1.3.1)\n",
            "Requirement already satisfied, skipping upgrade: typing-extensions in /usr/local/lib/python3.7/dist-packages (from torch<=1.7.1,>=1.5.0->flair) (3.7.4.3)\n",
            "Requirement already satisfied, skipping upgrade: smart-open>=1.2.1 in /usr/local/lib/python3.7/dist-packages (from gensim<=3.8.3,>=3.4.0->flair) (5.0.0)\n",
            "Collecting sacremoses\n",
            "\u001b[?25l  Downloading https://files.pythonhosted.org/packages/75/ee/67241dc87f266093c533a2d4d3d69438e57d7a90abb216fa076e7d475d4a/sacremoses-0.0.45-py3-none-any.whl (895kB)\n",
            "\u001b[K     |████████████████████████████████| 901kB 40.0MB/s \n",
            "\u001b[?25hCollecting tokenizers<0.11,>=0.10.1\n",
            "\u001b[?25l  Downloading https://files.pythonhosted.org/packages/ae/04/5b870f26a858552025a62f1649c20d29d2672c02ff3c3fb4c688ca46467a/tokenizers-0.10.2-cp37-cp37m-manylinux2010_x86_64.whl (3.3MB)\n",
            "\u001b[K     |████████████████████████████████| 3.3MB 30.3MB/s \n",
            "\u001b[?25hRequirement already satisfied, skipping upgrade: packaging in /usr/local/lib/python3.7/dist-packages (from transformers>=4.0.0->flair) (20.9)\n",
            "Requirement already satisfied, skipping upgrade: wcwidth in /usr/local/lib/python3.7/dist-packages (from ftfy->flair) (0.2.5)\n",
            "Requirement already satisfied, skipping upgrade: urllib3!=1.25.0,!=1.25.1,<1.26,>=1.21.1 in /usr/local/lib/python3.7/dist-packages (from requests->bpemb>=0.3.2->flair) (1.24.3)\n",
            "Requirement already satisfied, skipping upgrade: idna<3,>=2.5 in /usr/local/lib/python3.7/dist-packages (from requests->bpemb>=0.3.2->flair) (2.10)\n",
            "Requirement already satisfied, skipping upgrade: certifi>=2017.4.17 in /usr/local/lib/python3.7/dist-packages (from requests->bpemb>=0.3.2->flair) (2020.12.5)\n",
            "Requirement already satisfied, skipping upgrade: chardet<4,>=3.0.2 in /usr/local/lib/python3.7/dist-packages (from requests->bpemb>=0.3.2->flair) (3.0.4)\n",
            "Requirement already satisfied, skipping upgrade: zipp>=0.5 in /usr/local/lib/python3.7/dist-packages (from importlib-metadata<4.0.0,>=3.7.0->konoha<5.0.0,>=4.0.0->flair) (3.4.1)\n",
            "Requirement already satisfied, skipping upgrade: decorator<5,>=4.3 in /usr/local/lib/python3.7/dist-packages (from networkx->hyperopt>=0.1.1->flair) (4.4.2)\n",
            "Requirement already satisfied, skipping upgrade: click in /usr/local/lib/python3.7/dist-packages (from sacremoses->transformers>=4.0.0->flair) (7.1.2)\n",
            "Building wheels for collected packages: gdown\n",
            "  Building wheel for gdown (PEP 517) ... \u001b[?25l\u001b[?25hdone\n",
            "  Created wheel for gdown: filename=gdown-3.12.2-cp37-none-any.whl size=9693 sha256=25028146c71d41f1dbc750d2d4e2372f620b48f11cfb871e1e7a9ba706e0fae1\n",
            "  Stored in directory: /root/.cache/pip/wheels/81/d0/d7/d9983facc6f2775411803e0e2d30ebf98efbf2fc6e57701e09\n",
            "Successfully built gdown\n",
            "Building wheels for collected packages: segtok, sqlitedict, langdetect, mpld3, ftfy, overrides\n",
            "  Building wheel for segtok (setup.py) ... \u001b[?25l\u001b[?25hdone\n",
            "  Created wheel for segtok: filename=segtok-1.5.10-cp37-none-any.whl size=25019 sha256=dec899ab8de8adf63f760e31d89c20a22776b1dd22274d243d94e3543cc10062\n",
            "  Stored in directory: /root/.cache/pip/wheels/b4/39/f6/9ca1c5cabde964d728023b5751c3a206a5c8cc40252321fb6b\n",
            "  Building wheel for sqlitedict (setup.py) ... \u001b[?25l\u001b[?25hdone\n",
            "  Created wheel for sqlitedict: filename=sqlitedict-1.7.0-cp37-none-any.whl size=14376 sha256=726a6aac2af3488ae5af5485caaca244a58520e43e646724709c2da7747530f6\n",
            "  Stored in directory: /root/.cache/pip/wheels/cf/c6/4f/2c64a43f041415eb8b8740bd80e15e92f0d46c5e464d8e4b9b\n",
            "  Building wheel for langdetect (setup.py) ... \u001b[?25l\u001b[?25hdone\n",
            "  Created wheel for langdetect: filename=langdetect-1.0.8-cp37-none-any.whl size=993193 sha256=4d7303288b540013b21ff2b6a894c3385b2aff9ed80697f6070d7d4a9d945005\n",
            "  Stored in directory: /root/.cache/pip/wheels/8d/b3/aa/6d99de9f3841d7d3d40a60ea06e6d669e8e5012e6c8b947a57\n",
            "  Building wheel for mpld3 (setup.py) ... \u001b[?25l\u001b[?25hdone\n",
            "  Created wheel for mpld3: filename=mpld3-0.3-cp37-none-any.whl size=116679 sha256=3601659ae953f05514160bf43588be480cf975c74e3fafcabd88cda57d2eb80d\n",
            "  Stored in directory: /root/.cache/pip/wheels/c0/47/fb/8a64f89aecfe0059830479308ad42d62e898a3e3cefdf6ba28\n",
            "  Building wheel for ftfy (setup.py) ... \u001b[?25l\u001b[?25hdone\n",
            "  Created wheel for ftfy: filename=ftfy-6.0.1-cp37-none-any.whl size=41573 sha256=38006d84eae3aeacca82a351763e286766f51553a5adc4bc093fd0b22648a3ce\n",
            "  Stored in directory: /root/.cache/pip/wheels/ae/73/c7/9056e14b04919e5c262fe80b54133b1a88d73683d05d7ac65c\n",
            "  Building wheel for overrides (setup.py) ... \u001b[?25l\u001b[?25hdone\n",
            "  Created wheel for overrides: filename=overrides-3.1.0-cp37-none-any.whl size=10174 sha256=c23c705bd45e82320f14004ac32d5c960ace987120a9921968fbc2e166db526e\n",
            "  Stored in directory: /root/.cache/pip/wheels/5c/24/13/6ef8600e6f147c95e595f1289a86a3cc82ed65df57582c65a9\n",
            "Successfully built segtok sqlitedict langdetect mpld3 ftfy overrides\n",
            "\u001b[31mERROR: torchvision 0.9.1+cu101 has requirement torch==1.8.1, but you'll have torch 1.7.1 which is incompatible.\u001b[0m\n",
            "\u001b[31mERROR: torchtext 0.9.1 has requirement torch==1.8.1, but you'll have torch 1.7.1 which is incompatible.\u001b[0m\n",
            "\u001b[31mERROR: konoha 4.6.4 has requirement requests<3.0.0,>=2.25.1, but you'll have requests 2.23.0 which is incompatible.\u001b[0m\n",
            "Installing collected packages: sentencepiece, bpemb, overrides, konoha, segtok, deprecated, sqlitedict, gdown, langdetect, janome, huggingface-hub, torch, mpld3, sacremoses, tokenizers, transformers, ftfy, flair\n",
            "  Found existing installation: gdown 3.6.4\n",
            "    Uninstalling gdown-3.6.4:\n",
            "      Successfully uninstalled gdown-3.6.4\n",
            "  Found existing installation: torch 1.8.1+cu101\n",
            "    Uninstalling torch-1.8.1+cu101:\n",
            "      Successfully uninstalled torch-1.8.1+cu101\n",
            "Successfully installed bpemb-0.3.3 deprecated-1.2.12 flair-0.8.0.post1 ftfy-6.0.1 gdown-3.12.2 huggingface-hub-0.0.8 janome-0.4.1 konoha-4.6.4 langdetect-1.0.8 mpld3-0.3 overrides-3.1.0 sacremoses-0.0.45 segtok-1.5.10 sentencepiece-0.1.95 sqlitedict-1.7.0 tokenizers-0.10.2 torch-1.7.1 transformers-4.5.1\n"
          ],
          "name": "stdout"
        }
      ]
    },
    {
      "cell_type": "code",
      "metadata": {
        "id": "Xg8i2W3bO-kK"
      },
      "source": [
        "from flair.data import Corpus\n",
        "from flair.datasets import ColumnCorpus\n",
        "from flair.embeddings import  WordEmbeddings, StackedEmbeddings#, FlairEmbeddings, TokenEmbeddings\n",
        "from typing import List"
      ],
      "execution_count": null,
      "outputs": []
    },
    {
      "cell_type": "code",
      "metadata": {
        "colab": {
          "base_uri": "https://localhost:8080/"
        },
        "id": "fOPOT2KDPDrZ",
        "outputId": "ab529741-c543-4f90-f3a5-6f8180d803bc"
      },
      "source": [
        "# define columns\n",
        "columns = {0: 'text', 1: 'ner'}\n",
        "\n",
        "# this is the folder in which train, test and dev files reside\n",
        "data_folder = '/content/drive/MyDrive/medNer'\n",
        "\n",
        "# init a corpus using column format, data folder and the names of the train, dev and test files\n",
        "corpus: Corpus = ColumnCorpus(data_folder, columns,\n",
        "                              train_file='medMentions-train-CUI-version.tsv',\n",
        "                              test_file='medMentions-test-CUI-version.tsv',\n",
        "                              dev_file='medMentions-dev-CUI-version.tsv')\n",
        "\n",
        "# TODO obtain and print corpus statistics (output below obtained with the BASQUE NER corpus)\n",
        "print(corpus.obtain_statistics())"
      ],
      "execution_count": null,
      "outputs": [
        {
          "output_type": "stream",
          "text": [
            "2021-05-05 14:36:31,007 Reading data from /content/drive/MyDrive/medNer\n",
            "2021-05-05 14:36:31,014 Train: /content/drive/MyDrive/medNer/medMentions-train-CUI-version.tsv\n",
            "2021-05-05 14:36:31,018 Dev: /content/drive/MyDrive/medNer/medMentions-dev-CUI-version.tsv\n",
            "2021-05-05 14:36:31,020 Test: /content/drive/MyDrive/medNer/medMentions-test-CUI-version.tsv\n",
            "{\n",
            "    \"TRAIN\": {\n",
            "        \"dataset\": \"TRAIN\",\n",
            "        \"total_number_of_documents\": 941,\n",
            "        \"number_of_documents_per_class\": {},\n",
            "        \"number_of_tokens_per_tag\": {},\n",
            "        \"number_of_tokens\": {\n",
            "            \"total\": 25187,\n",
            "            \"min\": 2,\n",
            "            \"max\": 122,\n",
            "            \"avg\": 26.766206163655685\n",
            "        }\n",
            "    },\n",
            "    \"TEST\": {\n",
            "        \"dataset\": \"TEST\",\n",
            "        \"total_number_of_documents\": 381,\n",
            "        \"number_of_documents_per_class\": {},\n",
            "        \"number_of_tokens_per_tag\": {},\n",
            "        \"number_of_tokens\": {\n",
            "            \"total\": 10302,\n",
            "            \"min\": 3,\n",
            "            \"max\": 89,\n",
            "            \"avg\": 27.03937007874016\n",
            "        }\n",
            "    },\n",
            "    \"DEV\": {\n",
            "        \"dataset\": \"DEV\",\n",
            "        \"total_number_of_documents\": 380,\n",
            "        \"number_of_documents_per_class\": {},\n",
            "        \"number_of_tokens_per_tag\": {},\n",
            "        \"number_of_tokens\": {\n",
            "            \"total\": 9532,\n",
            "            \"min\": 2,\n",
            "            \"max\": 109,\n",
            "            \"avg\": 25.08421052631579\n",
            "        }\n",
            "    }\n",
            "}\n"
          ],
          "name": "stdout"
        }
      ]
    },
    {
      "cell_type": "code",
      "metadata": {
        "colab": {
          "base_uri": "https://localhost:8080/"
        },
        "id": "pPOy9UqjPltR",
        "outputId": "7cfc07e3-ec72-4f95-f013-266c507571c7"
      },
      "source": [
        "# 2. what tag do we want to predict?\n",
        "tag_type = 'ner'\n",
        "\n",
        "# 3. make the tag dictionary from the corpus\n",
        "tag_dictionary = corpus.make_tag_dictionary(tag_type=tag_type)\n",
        "print(tag_dictionary.idx2item)"
      ],
      "execution_count": null,
      "outputs": [
        {
          "output_type": "stream",
          "text": [
            "[b'<unk>', b'O', b'B-C4308010', b'B-C0854135', b'I-C0854135', b'B-C0010674', b'I-C0010674', b'B-C0030705', b'B-C0443252', b'B-C0024115', b'I-C0024115', b'B-C0220921', b'I-C0220921', b'B-C0847557', b'I-C0847557', b'B-C3160731', b'I-C3160731', b'B-C1521828', b'B-C4086268', b'B-C3640077', b'I-C3640077', b'B-C1707689', b'I-C1707689', b'B-C0597298', b'I-C4308010', b'B-C0035204', b'I-C0035204', b'B-C2603343', b'B-C1292732', b'B-C3845273', b'B-C0021149', b'B-C0001779', b'B-C0599755', b'B-C0001675', b'B-C0475309', b'B-C0032520', b'I-C0032520', b'B-C3899368', b'I-C3899368', b'B-C0444245', b'I-C0444245', b'B-C0019994', b'I-C0019994', b'B-C1413365', b'B-C0243067', b'B-C0876973', b'I-C0876973', b'B-C0033809', b'B-C0086582', b'B-C0026882', b'I-C0026882', b'B-C0699748', b'B-C0042382', b'B-C0037114', b'B-C1706182', b'B-C2349975', b'B-C1705822', b'B-C2828363', b'I-C2828363', b'B-C0085104', b'I-C0085104', b'B-C0183210', b'I-C0183210', b'B-C0444498', b'I-C0444498', b'B-C0185125', b'B-C0439801', b'B-C0012222', b'B-C1708386', b'I-C1708386', b'B-C0439709', b'B-C2348438', b'B-C1706409', b'I-C1706409', b'B-C1553901', b'B-C0449295', b'B-C1254362', b'I-C1254362', b'B-C0205120', b'B-C0487742', b'B-C0520510', b'B-C1280412', b'I-C0037114', b'B-C1522240', b'B-C0599199', b'B-C1254366', b'I-C1254366', b'B-C0870840', b'B-C1257792', b'I-C1257792', b'I-C1706182', b'B-C0005847', b'I-C0005847', b'B-C0231449', b'B-C0205197', b'B-C0441655', b'B-C0277814', b'B-C0806909', b'B-C0231452', b'B-C1523987', b'B-C0231472', b'B-C0035028', b'B-C1882365', b'B-C0205369', b'B-C0332324', b'B-C0430022', b'I-C0430022', b'B-C0024031', b'I-C0024031', b'I-C0231452', b'B-C1257890', b'B-C0026845', b'I-C0026845', b'B-C0037949', b'B-C0205143', b'B-C0231476', b'B-C0441889', b'B-C0224301', b'I-C0224301', b'B-C0679646', b'B-C0004604', b'I-C0004604', b'B-C0460005', b'B-C1710082', b'I-C1710082', b'B-C0223522', b'I-C0223522', b'B-C0459954', b'I-C0459954', b'B-C1180431', b'I-C1180431', b'B-C1516048', b'I-C0205143', b'B-C1880019', b'B-C1707455', b'B-C0332529', b'B-C0243161', b'B-C0011900', b'B-C0039593', b'B-C0027361', b'B-C0439849', b'B-C0012751', b'B-C0241311', b'B-C0545082', b'B-C2827364', b'B-C0205476', b'B-C0008819', b'I-C0008819', b'B-C1514578', b'I-C1514578', b'B-C0022558', b'B-C0035168', b'B-C0439656', b'B-C0007403', b'I-C0007403', b'B-C0018704', b'B-C0589121', b'I-C0589121', b'B-C0936012', b'B-C1511726', b'B-C0439605', b'B-C1707391', b'B-C1515021', b'B-C0025266', b'B-C0679823', b'B-C1456498', b'B-C1522577', b'B-C2939193', b'B-C0237096', b'B-C1711350', b'B-C2982691', b'B-C0205363', b'B-C1274040', b'B-C0205245', b'B-C1704243', b'B-C0332281', b'I-C0332281', b'B-C0205250', b'B-C0028873', b'B-C0009667', b'B-C0681784', b'B-C0449864', b'B-C0750502', b'B-C0205216', b'B-C2698872', b'B-C1999232', b'B-C0205349', b'I-C0205349', b'B-C0332307', b'B-C0033414', b'B-C0870811', b'I-C0870811', b'B-C0424578', b'B-C0021562', b'I-C0021562', b'B-C0031928', b'I-C0031928', b'B-C0205486', b'B-C0184661', b'B-C0086931', b'I-C0086931', b'B-C0439850', b'B-C0728831', b'B-C0812409', b'B-C1704332', b'I-C1257890', b'B-C0542299', b'I-C0542299', b'B-C0033906', b'I-C0033906', b'B-C1555909', b'I-C1555909', b'B-C0596660', b'I-C0596660', b'B-C0558020', b'I-C0558020', b'B-C1709510', b'B-C0700350', b'I-C0700350', b'B-C0678967', b'I-C0678967', b'B-C0600015', b'I-C0600015', b'B-C2585021', b'I-C2585021', b'B-C0009482', b'I-C0009482', b'I-C1274040', b'B-C0000898', b'B-C0392747', b'B-C0018684', b'B-C3829447', b'B-C3828193', b'B-C0205543', b'B-C0003629', b'B-C1555321', b'B-C0086287', b'B-C0439234', b'B-C0018759', b'I-C0018759', b'B-C0439230', b'B-C0600564', b'B-C0449820', b'I-C0449820', b'B-C0184511', b'I-C0184511', b'B-C4062319', b'I-C4062319', b'B-C1328735', b'I-C1328735', b'B-C0018017', b'B-C1272277', b'B-C0018747', b'B-C1522486', b'I-C1522486', b'B-C4084799', b'B-C3840671', b'I-C3840671', b'I-C0184661', b'B-C1879533', b'B-C0243095', b'I-C0243095', b'B-C0439861', b'I-C0439861', b'B-C0021576', b'B-C1698986', b'B-C1514468', b'B-C0009276', b'B-C0453860', b'B-C0071138', b'B-C0007757', b'B-C1280519', b'I-C0021576', b'B-C0520810', b'I-C0520810', b'B-C0998410', b'I-C0998410', b'B-C0322563', b'I-C0322563', b'B-C1041701', b'I-C1041701', b'B-C0598191', b'I-C0598191', b'B-C3714578', b'B-C0035567', b'B-C1138842', b'B-C0043137', b'B-C0178587', b'B-C0006138', b'B-C0452694', b'B-C1521827', b'B-C0871161', b'B-C0563200', b'B-C0680063', b'B-C0332293', b'I-C0332293', b'B-C0016452', b'B-C0016260', b'B-C0031249', b'I-C0031249', b'B-C1301751', b'I-C1301751', b'B-C0332306', b'B-C0850292', b'I-C0850292', b'B-C0447025', b'I-C0447025', b'B-C3163894', b'I-C3163894', b'B-C0683325', b'I-C0683325', b'B-C1283195', b'B-C3275043', b'I-C3275043', b'B-C0035363', b'I-C0035363', b'B-C0547070', b'B-C0205099', b'I-C0205099', b'B-C1180121', b'B-C0441833', b'I-C0441833', b'B-C2708283', b'I-C2708283', b'I-C0547070', b'B-C0001782', b'B-C0036878', b'I-C0036878', b'B-C0004238', b'I-C0004238', b'B-C0205160', b'B-C1880434', b'I-C1880434', b'B-C1623258', b'B-C1511883', b'B-C1511884', b'B-C0012817', b'B-C3245505', b'B-C0205145', b'B-C0849666', b'I-C0849666', b'B-C1806781', b'B-C0205251', b'B-C0034897', b'B-C0438154', b'I-C0438154', b'B-C0006383', b'I-C0006383', b'B-C1438309', b'B-C0599949', b'I-C0599949', b'B-C0205653', b'B-C2316287', b'I-C2316287', b'B-C0332239', b'B-C1955907', b'B-C0007328', b'I-C0007328', b'B-C1513916', b'B-C0815129', b'I-C0815129', b'B-C0005890', b'B-C0005910', b'B-C0455829', b'I-C0455829', b'B-C0005823', b'I-C0005823', b'B-C0178913', b'I-C0178913', b'B-C0583513', b'I-C0583513', b'B-C0428462', b'I-C0428462', b'I-C1438309', b'B-C0201657', b'I-C0201657', b'B-C2700366', b'B-C0068707', b'B-C3494431', b'I-C3494431', b'B-C3654464', b'I-C3654464', b'B-C0040405', b'I-C0040405', b'B-C2041409', b'I-C2041409', b'B-C2964135', b'I-C2964135', b'B-C0871470', b'I-C0871470', b'B-C0428883', b'I-C0428883', b'B-C0026777', b'I-C0026777', b'B-C0080105', b'B-C0040508', b'I-C0040508', b'B-C0935598', b'B-C0521329', b'B-C0229962', b'B-C1821889', b'B-C0205082', b'B-C0029410', b'I-C0029410', b'B-C0206231', b'B-C0037928', b'I-C0037928', b'B-C0087111', b'B-C0205161', b'B-C0220900', b'B-C0033522', b'I-C0033522', b'B-C0564405', b'B-C0031809', b'I-C0031809', b'B-C0043303', b'I-C0043303', b'B-C0030797', b'B-C0019552', b'B-C3257974', b'I-C3257974', b'B-C1442488', b'B-C0348000', b'I-C0348000', b'B-C3536884', b'I-C3536884', b'B-C3639717', b'I-C3639717', b'B-C2919875', b'I-C2919875', b'B-C0392756', b'I-C0392756', b'B-C2237371', b'I-C2237371', b'B-C0038895', b'B-C2699488', b'B-C0547047', b'B-C2960751', b'B-C3887615', b'I-C3887615', b'B-C1275743', b'B-C2348867', b'B-C0014653', b'B-C0031150', b'B-C1527249', b'I-C1527249', b'B-C0439580', b'B-C0494165', b'I-C0494165', b'B-C2718044', b'B-C0871424', b'B-C0282624', b'I-C0282624', b'B-C2608114', b'B-C0193373', b'I-C0193373', b'I-C0031150', b'I-C0871424', b'B-C0024907', b'I-C0024907', b'B-C4283938', b'I-C4283938', b'B-C0032790', b'B-C0026538', b'B-C1273712', b'I-C1273712', b'B-C0599878', b'I-C0599878', b'B-C0079027', b'I-C0079027', b'B-C0580966', b'I-C0580966', b'B-C0457451', b'I-C0457451', b'B-C0852681', b'I-C0852681', b'B-C0015376', b'B-C4048755', b'B-C0178476', b'B-C0220908', b'B-C0025663', b'B-C0036499', b'I-C0036499', b'B-C3178977', b'B-C0033213', b'B-C0557760', b'I-C0557760', b'B-C0031837', b'B-C0079107', b'B-C0439855', b'B-C1709793', b'B-C0282574', b'I-C0282574', b'B-C0026350', b'I-C0026350', b'I-C0178476', b'B-C0750572', b'B-C1881065', b'B-C1280500', b'B-C0678587', b'I-C0678587', b'B-C1554188', b'B-C0006823', b'B-C0041703', b'I-C0041703', b'B-C0004340', b'B-C0184514', b'B-C0205265', b'B-C1283102', b'B-C0596631', b'B-C1273870', b'B-C0011109', b'I-C0011109', b'B-C2745955', b'B-C0205217', b'B-C1956027', b'B-C3146287', b'I-C3146287', b'B-C0332232', b'B-C0868928', b'B-C1947976', b'B-C0332624', b'B-C0231175', b'B-C2349182', b'B-C0681842', b'B-C1881865', b'B-C0337055', b'I-C0337055', b'B-C0439639', b'B-C0017446', b'B-C0348080', b'I-C0348080', b'B-C0442536', b'I-C2699488', b'B-C1821973', b'B-C1336665', b'B-C1412716', b'B-C0017262', b'I-C0017262', b'B-C0016470', b'I-C0016470', b'B-C0020517', b'I-C0020517', b'B-C0024899', b'B-C0012634', b'B-C0027022', b'I-C0027022', b'B-C1457887', b'B-C0011627', b'B-C0018943', b'B-C1879547', b'B-C0024880', b'I-C0024880', b'B-C0033774', b'B-C0041834', b'B-C0018681', b'B-C0000729', b'I-C0000729', b'B-C0011991', b'B-C0151825', b'I-C0151825', b'B-C0003864', b'B-C0020649', b'B-C0036974', b'B-C1302234', b'B-C0005516', b'B-C0013182', b'I-C0013182', b'B-C0043157', b'B-C3179034', b'I-C3179034', b'B-C0017337', b'B-C0035703', b'I-C0035703', b'B-C1136033', b'I-C1136033', b'B-C0272203', b'I-C0272203', b'B-C0079626', b'I-C0079626', b'B-C0002792', b'B-C0262926', b'I-C0262926', b'B-C3714552', b'I-C3714552', b'B-C3841811', b'B-C0085973', b'I-C0085973', b'B-C0337962', b'I-C0337962', b'B-C1536570', b'B-C0031831', b'B-C0006666', b'B-C0729737', b'I-C0729737', b'B-C0013816', b'B-C0086143', b'B-C0150866', b'I-C0150866', b'B-C0037274', b'I-C0037274', b'B-C0262428', b'I-C0262428', b'B-C0260138', b'B-C0278252', b'I-C0278252', b'B-C0205556', b'I-C0205556', b'B-C1522326', b'B-C3827828', b'I-C3827828', b'B-C0243026', b'B-C0241745', b'I-C0241745', b'B-C0231170', b'B-C0242479', b'B-C0282469', b'B-C0449774', b'B-C0565987', b'B-C0205276', b'B-C0003062', b'B-C0037709', b'B-C3875152', b'B-C0870781', b'B-C1705920', b'B-C0439064', b'B-C0086312', b'I-C0086312', b'B-C1880371', b'B-C2230122', b'B-C1512704', b'B-C0032098', b'B-C1706462', b'B-C0205117', b'I-C0017446', b'B-C1515221', b'B-C0443299', b'B-C0205396', b'B-C0042932', b'B-C0005595', b'B-C0003459', b'B-C0018288', b'B-C0684063', b'B-C0549177', b'B-C0205296', b'B-C0442534', b'I-C0442534', b'B-C1522410', b'B-C0392762', b'I-C0392762', b'B-C0205146', b'I-C0032098', b'B-C0018210', b'I-C1705920', b'B-C0302891', b'B-C1880391', b'B-C0562691', b'B-C1710548', b'B-C0871648', b'I-C0871648', b'I-C1880371', b'B-C1721088', b'B-C0019409', b'B-C0449456', b'I-C0449456', b'B-C1521970', b'B-C1254370', b'B-C1880177', b'B-C0028263', b'I-C0028263', b'B-C0752931', b'B-C1709929', b'I-C1709929', b'B-C1366529', b'I-C1366529', b'B-C0021756', b'I-C0021756', b'B-C0085295', b'B-C0020443', b'B-C0678951', b'B-C0333348', b'B-C0079189', b'B-C3845108', b'B-C1947946', b'B-C0200930', b'B-C0917792', b'I-C0917792', b'B-C0557351', b'B-C3898900', b'B-C0014441', b'B-C0683149', b'I-C0683149', b'B-C0596192', b'I-C0596192', b'B-C0600653', b'B-C2986479', b'I-C2986479', b'B-C0010101', b'I-C0010101', b'B-C3843166', b'B-C1707520', b'B-C0543421', b'I-C0543421', b'B-C0023824', b'B-C0017431', b'B-C0023822', b'B-C1446409', b'B-C0023733', b'I-C0023733', b'B-C0085862', b'B-C1521761', b'B-C0392760', b'B-C0022885', b'I-C0022885', b'B-C0229671', b'B-C0042866', b'I-C0042866', b'B-C0222652', b'B-C0080037', b'B-C0001792', b'B-C0029453', b'I-C0029453', b'B-C0205100', b'B-C1515974', b'B-C0535968', b'I-C0535968', b'B-C2984945', b'I-C2984945', b'B-C0262950', b'I-C0262950', b'B-C0005938', b'I-C0005938', b'B-C1510829', b'B-C1510486', b'I-C1510486', b'B-C0202159', b'I-C0202159', b'B-C0020980', b'B-C0444504', b'B-C0588200', b'I-C0588200', b'B-C0222660', b'I-C0222660', b'B-C0560268', b'I-C0560268', b'B-C0015815', b'I-C0015815', b'B-C2828255', b'B-C0919758', b'I-C0919758', b'B-C0042870', b'I-C0042870', b'B-C0231179', b'B-C3163633', b'B-C0205410', b'B-C3161035', b'B-C2183363', b'I-C2183363', b'B-C0026606', b'I-C0026606', b'B-C0037369', b'B-C0302837', b'B-C0030520', b'I-C0030520', b'B-C0040184', b'B-C0302113', b'B-C0007634', b'B-C3828225', b'B-C0009325', b'B-C0017243', b'B-C0175730', b'I-C0175730', b'B-C0232108', b'I-C0232108', b'B-C1705217', b'B-C0728907', b'I-C0728907', b'B-C0430400', b'B-C1533691', b'I-C1533691', b'B-C0678594', b'B-C0162867', b'I-C0162867', b'B-C0032167', b'B-C0225325', b'I-C0225325', b'B-C0005479', b'B-C0184166', b'I-C0184166', b'B-C1704353', b'B-C0182957', b'I-C0182957', b'B-C0033679', b'B-C0026020', b'B-C0344441', b'B-C0014442', b'B-C0178576', b'B-C0033095', b'I-C0033095', b'B-C0439228', b'B-C1706765', b'B-C1171362', b'B-C0597301', b'B-C0017968', b'I-C0017968', b'B-C0021585', b'B-C3494245', b'B-C0036743', b'B-C0008056', b'I-C0008056', b'B-C0026584', b'B-C0699809', b'B-C0003725', b'B-C0749385', b'B-C0699943', b'I-C0699943', b'B-C0443196', b'B-C0011315', b'I-C0011315', b'B-C0175630', b'B-C4277713', b'I-C4277713', b'B-C0011911', b'I-C0011911', b'B-C1527178', b'B-C0220911', b'B-C1521991', b'I-C0036743', b'B-C0078968', b'I-C0078968', b'B-C0347984', b'B-C0750729', b'B-C3714514', b'B-C0443286', b'B-C0521143', b'B-C1552857', b'B-C1552738', b'B-C3146294', b'B-C0205360', b'B-C0009013', b'B-C0242626', b'I-C0242626', b'B-C1327616', b'B-C1749467', b'B-C1514798', b'B-C0032136', b'B-C0185117', b'B-C0443324', b'B-C0449851', b'B-C0597363', b'I-C0597363', b'B-C0034861', b'I-C0034861', b'B-C0205178', b'B-C0035648', b'I-C0035648', b'B-C0038663', b'I-C0038663', b'B-C1306577', b'B-C1254363', b'B-C0005586', b'B-C0038661', b'B-C0033873', b'B-C0237607', b'B-C0205210', b'B-C0442805', b'B-C0439231', b'B-C1760428', b'I-C1760428', b'B-C0370003', b'B-C0029921', b'I-C0005586', b'I-C1254363', b'B-C0008976', b'B-C4264514', b'B-C0023732', b'I-C0023732', b'B-C1516647', b'I-C1516647', b'B-C1512346', b'B-C0424000', b'I-C0424000', b'B-C0424091', b'I-C0424091', b'B-C0003467', b'B-C3887612', b'I-C3887612', b'B-C1171309', b'I-C1171309', b'B-C0237401', b'B-C0439793', b'B-C0456389', b'I-C3161035', b'B-C0547044', b'B-C0439792', b'B-C0220825', b'B-C0242485', b'B-C0085415', b'B-C1408821', b'I-C1408821', b'B-C0034372', b'B-C0884358', b'B-C0562230', b'I-C0562230', b'B-C1821407', b'I-C1821407', b'B-C1272684', b'B-C0206058', b'I-C0206058', b'B-C0221099', b'B-C0034380', b'I-C0034380', b'B-C0336791', b'I-C0336791', b'B-C0243126', b'B-C3261286', b'I-C3261286', b'B-C0442726', b'B-C0815257', b'I-C0815257', b'B-C0557034', b'B-C0871685', b'B-C1548787', b'B-C1547011', b'B-C1512888', b'B-C0871525', b'B-C0443211', b'B-C2827421', b'B-C1533734', b'B-C2347946', b'B-C0841296', b'I-C0841296', b'B-C0205224', b'B-C0034925', b'B-C0686907', b'I-C0686907', b'B-C0042153', b'B-C0566217', b'I-C0566217', b'B-C3540678', b'B-C0524865', b'I-C0524865', b'B-C0043227', b'B-C1521738', b'B-C1514873', b'B-C0205253', b'B-C0282116', b'B-C0085565', b'I-C0085565', b'B-C0010992', b'B-C0445204', b'B-C0449432', b'B-C1292733', b'B-C2584307', b'B-C2106353', b'B-C0687676', b'B-C0086511', b'I-C0086511', b'B-C0555092', b'I-C0555092', b'B-C0449234', b'B-C0332268', b'B-C0030971', b'B-C0560891', b'I-C0560891', b'B-C0332157', b'I-C0332157', b'I-C2106353', b'B-C0010362', b'I-C0010362', b'B-C0332152', b'B-C0543467', b'B-C0034394', b'B-C1997265', b'I-C1997265', b'B-C0439165', b'B-C0030193', b'B-C2364135', b'B-C0085732', b'B-C1299392', b'I-C1299392', b'B-C0582148', b'I-C0582148', b'B-C0445356', b'B-C0022742', b'B-C2237113', b'B-C0027868', b'I-C0027868', b'B-C0680040', b'B-C0027740', b'B-C0027869', b'I-C0027869', b'B-C0031437', b'B-C0242960', b'I-C0242960', b'B-C1708476', b'B-C2936622', b'I-C2936622', b'B-C0870340', b'I-C0870340', b'I-C0010992', b'B-C3816499', b'B-C0678941', b'I-C0678941', b'B-C0205419', b'I-C0205419', b'B-C1413113', b'B-C1413589', b'B-C1413591', b'B-C1414083', b'B-C1414209', b'B-C1414612', b'B-C1415076', b'B-C2829592', b'B-C1416776', b'B-C1416877', b'B-C1418643', b'B-C1419778', b'B-C1420005', b'B-C1420006', b'B-C1424736', b'B-C1420827', b'B-C0332140', b'I-C0332140', b'B-C1858576', b'I-C1858576', b'B-C1561607', b'B-C0348026', b'B-C0022877', b'B-C0023089', b'B-C0001558', b'B-C0021083', b'B-C1706410', b'I-C1706410', b'B-C0162352', b'I-C0162352', b'B-C1704419', b'B-C0814225', b'B-C0332167', b'I-C0332167', b'B-C0221743', b'I-C0221743', b'B-C0002092', b'I-C0002092', b'B-C0001551', b'B-C1325742', b'B-C0014520', b'B-C1709016', b'B-C0991556', b'B-C1522408', b'B-C0029923', b'I-C0029923', b'B-C0056912', b'B-C0006674', b'I-C0006674', b'B-C0683174', b'I-C0683174', b'B-C1709025', b'B-C1123023', b'B-C0332294', b'I-C0332294', b'B-C4281748', b'B-C0007226', b'I-C0007226', b'B-C0413381', b'I-C0413381', b'B-C3463820', b'B-C0443736', b'I-C0443736', b'B-C0871261', b'B-C0025929', b'B-C0035228', b'I-C0035228', b'B-C0020857', b'B-C0003261', b'B-C0242632', b'B-C0301872', b'I-C0301872', b'B-C0205263', b'B-C0039198', b'B-C2938930', b'I-C2938930', b'B-C0020963', b'I-C0020963', b'B-C0521093', b'I-C0521093', b'B-C0441610', b'B-C0458827', b'I-C0458827', b'B-C0205400', b'B-C0014467', b'B-C0751982', b'I-C0751982', b'B-C0282335', b'I-C0282335', b'B-C1882932', b'B-C0205314', b'B-C0234226', b'B-C0039421', b'B-C0237400', b'B-C2700280', b'B-C2347129', b'B-C0036341', b'B-C1836348', b'I-C1836348', b'B-C0542341', b'B-C0439828', b'B-C0011298', b'B-C0221423', b'B-C1998319', b'I-C1998319', b'B-C0043210', b'B-C0004936', b'I-C0004936', b'B-C0013658', b'I-C0013658', b'B-C0024819', b'I-C0024819', b'B-C0020056', b'B-C0521116', b'B-C0544452', b'B-C0040223', b'B-C3176590', b'I-C3176590', b'B-C0079399', b'B-C4049986', b'B-C0001072', b'B-C1412471', b'B-C1412481', b'I-C1412481', b'B-C1867743', b'I-C1867743', b'B-C0023820', b'B-C1527148', b'B-C0004153', b'I-C0004153', b'B-C0428460', b'I-C0428460', b'B-C1512571', b'B-C0392366', b'B-C0032659', b'B-C0337801', b'B-C1522384', b'I-C1412471', b'B-C2732542', b'I-C2732542', b'B-C0002085', b'B-C0524620', b'I-C0524620', b'B-C0201950', b'I-C0201950', b'B-C0202116', b'I-C0202116', b'B-C0024687', b'B-C0205191', b'B-C0039494', b'B-C0376636', b'B-C0013622', b'B-C0567459', b'I-C0567459', b'B-C0013072', b'B-C0206034', b'I-C0206034', b'B-C4228933', b'I-C4228933', b'B-C3898777', b'B-C0037088', b'I-C0039494', b'B-C0015127', b'B-C0332218', b'B-C0026649', b'B-C0150055', b'I-C0150055', b'B-C0332849', b'B-C0681860', b'B-C0009932', b'I-C0009932', b'I-C0681860', b'B-C1519249', b'B-C1514756', b'B-C0025080', b'I-C0025080', b'B-C2355580', b'B-C0226896', b'B-C0024888', b'B-C1254367', b'B-C1516606', b'I-C1516606', b'B-C1524063', b'B-C1709320', b'I-C1709320', b'B-C0332283', b'I-C0332283', b'B-C1879894', b'I-C1879894', b'B-C1704970', b'B-C2986411', b'I-C0026649', b'B-C4055637', b'I-C4055637', b'I-C0439228', b'B-C0205128', b'B-C1273937', b'I-C1273937', b'B-C1705242', b'B-C0150312', b'B-C0443303', b'B-C4054723', b'B-C1537847', b'B-C1160454', b'I-C1160454', b'B-C1414121', b'B-C0025723', b'B-C1523298', b'B-C1513095', b'I-C1513095', b'B-C0242613', b'B-C1419193', b'B-C0025202', b'B-C0007595', b'I-C0007595', b'B-C2699153', b'B-C4255448', b'B-C0013081', b'B-C0522506', b'B-C1514628', b'B-C0026031', b'I-C0026031', b'B-C0443264', b'B-C0376452', b'I-C0376452', b'B-C0033413', b'I-C0033413', b'B-C1140694', b'I-C1140694', b'B-C1521840', b'B-C0009802', b'B-C0005456', b'I-C0005456', b'B-C0600600', b'B-C0024075', b'B-C0005507', b'B-C0949466', b'I-C0949466', b'B-C1167622', b'B-C0038855', b'I-C0038855', b'B-C2350567', b'B-C0221908', b'B-C1513143', b'I-C1523298', b'B-C0441712', b'B-C1101610', b'B-C0079427', b'I-C0079427', b'B-C1305855', b'I-C1305855', b'B-C0497406', b'B-C0028754', b'I-C1521828', b'B-C0243119', b'B-C0004398', b'B-C0007465', b'I-C0007465', b'B-C1407879', b'I-C1407879', b'B-C0038995', b'B-C0332257', b'B-C0000924', b'B-C0019872', b'B-C1709090', b'B-C0034980', b'I-C0034980', b'B-C0036497', b'B-C0438696', b'B-C0728899', b'I-C0009667', b'B-C0041667', b'B-C0013142', b'B-C3146298', b'B-C0544691', b'B-C1707478', b'B-C0204732', b'B-C0016557', b'I-C0016557', b'B-C0242114', b'B-C0750489', b'B-C0205214', b'I-C0205214', b'I-C1521970', b'B-C0011065', b'B-C0338656', b'I-C0338656', b'B-C0019682', b'B-C0220847', b'B-C0275524', b'B-C0282443', b'B-C0920317', b'I-C0019682', b'I-C0220847', b'B-C0332128', b'B-C0392335', b'I-C0392335', b'B-C0870707', b'I-C0870707', b'B-C0086833', b'B-C0871429', b'B-C0451331', b'I-C0451331', b'B-C0042776', b'B-C0805586', b'B-C2364172', b'I-C2364172', b'I-C0542341', b'B-C0018727', b'B-C0018726', b'B-C1516615', b'I-C1516615', b'B-C3827682', b'B-C0013931', b'B-C1512608', b'B-C0752156', b'I-C0752156', b'B-C2945760', b'B-C0749095', b'I-C0749095', b'B-C0282441', b'I-C0282441', b'B-C0205269', b'B-C0935576', b'B-C0226147', b'I-C0226147', b'B-C0457435', b'I-C0457435', b'B-C0003537', b'B-C0085639', b'B-C0005375', b'B-C0018670', b'B-C0443246', b'B-C2005662', b'I-C2005662', b'I-C0032790', b'B-C0231242', b'B-C4055506', b'B-C1948053', b'B-C0002979', b'I-C0002979', b'B-C0205091', b'I-C0205091', b'B-C1272703', b'B-C0014035', b'I-C0014035', b'B-C2936738', b'B-C0040808', b'I-C0040808', b'B-C0871521', b'B-C1272706', b'I-C1272706', b'B-C0441989', b'B-C0458012', b'I-C0458012', b'B-C3266841', b'I-C3266841', b'B-C0023981', b'I-C0023981', b'B-C0008100', b'I-C0008100', b'B-C0008059', b'B-C0205156', b'B-C2348484', b'I-C2348484', b'B-C0023759', b'B-C0596028', b'B-C1711331', b'I-C1711331', b'B-C0237913', b'I-C0237913', b'B-C2986815', b'B-C1711260', b'B-C0442799', b'B-C1710191', b'I-C1710191', b'B-C0449379', b'B-C0006104', b'B-C0598941', b'B-C0728938', b'B-C0376335', b'B-C2827396', b'I-C2827396', b'B-C0029237', b'B-C1554090', b'I-C1554090', b'B-C1710348', b'I-C1710348', b'B-C0870071', b'I-C0750572', b'B-C1882330', b'B-C0549193', b'I-C0549193', b'B-C0243148', b'B-C2986490', b'B-C0443220', b'B-C0037589', b'B-C0679575', b'I-C0679575', b'B-C0679083', b'I-C0679083', b'B-C4288291', b'I-C4288291', b'B-C0009247', b'I-C0009247', b'I-C0449379', b'B-C0746922', b'B-C0228176', b'B-C0228175', b'I-C0228175', b'B-C0332513', b'I-C0332513', b'B-C1372849', b'I-C1372849', b'I-C0037589', b'B-C0870883', b'B-C2003903', b'B-C0022277', b'B-C0242772', b'B-C1883525', b'B-C0016767', b'B-C0443224', b'B-C1318228', b'B-C0042333', b'I-C0042333', b'B-C0314603', b'I-C0314603', b'B-C0599883', b'I-C1883525', b'B-C0016203', b'B-C1138601', b'B-C0332490', b'B-C0205166', b'B-C0020205', b'I-C0020205', b'B-C0332479', b'B-C0237936', b'I-C0016767', b'B-C0543482', b'B-C1880022', b'B-C0850997', b'I-C0850997', b'B-C0002062', b'B-C0031428', b'B-C0002520', b'I-C0002520', b'B-C0029224', b'I-C0029224', b'I-C0031428', b'B-C0699759', b'B-C0061472', b'I-C0061472', b'B-C1328436', b'I-C1328436', b'B-C0752046', b'I-C0752046', b'B-C0023866', b'B-C0012872', b'B-C1517520', b'I-C1517520', b'B-C0597336', b'B-C4042916', b'I-C4042916', b'B-C1820078', b'I-C1283195', b'B-C0311400', b'B-C1517586', b'B-C1853126', b'I-C1853126', b'B-C0006159', b'B-C1706082', b'B-C0010357', b'B-C0057445', b'B-C0596751', b'B-C0179909', b'B-C0521115', b'B-C0002778', b'B-C0243072', b'B-C0444315', b'B-C0026955', b'I-C0016452', b'B-C2003864', b'B-C0589473', b'I-C0589473', b'B-C4042799', b'B-C0598697', b'B-C0521033', b'B-C0868945', b'B-C2717096', b'B-C0005457', b'I-C0005457', b'I-C0444315', b'B-C0034384', b'I-C0034384', b'B-C1272745', b'B-C0814435', b'I-C0814435', b'B-C1947933', b'B-C4315362', b'I-C4315362', b'B-C1710032', b'B-C0237433', b'B-C0558092', b'I-C0558092', b'B-C0033137', b'I-C0033137', b'B-C0682053', b'B-C1561598', b'I-C1561598', b'B-C0020792', b'B-C0332177', b'B-C0184805', b'I-C0184805', b'I-C1710032', b'B-C0038951', b'B-C0679881', b'B-C1301725', b'B-C0018762', b'B-C0150499', b'B-C0008973', b'B-C0518904', b'B-C0449243', b'B-C1704656', b'B-C1704686', b'B-C0034379', b'I-C0034379', b'B-C0036592', b'B-C1704788', b'B-C3658312', b'I-C3658312', b'B-C0178566', b'B-C0681812', b'I-C0681812', b'B-C0005526', b'I-C1511726', b'B-C0681799', b'B-C1706817', b'B-C0376554', b'B-C0563471', b'I-C0563471', b'B-C3858647', b'I-C3858647', b'B-C0886296', b'B-C0010186', b'B-C1280910', b'B-C2698651', b'B-C3826426', b'B-C0021853', b'B-C0332437', b'B-C0267454', b'I-C0267454', b'B-C2698565', b'I-C2698565', b'B-C0205345', b'B-C0700321', b'B-C1442080', b'B-C0015691', b'I-C0015691', b'B-C1999230', b'B-C0369760', b'I-C0369760', b'B-C0700287', b'B-C0086387', b'B-C1705810', b'B-C0017189', b'I-C0017189', b'B-C2249823', b'I-C2249823', b'B-C0450254', b'B-C0004611', b'B-C1533716', b'B-C0231180', b'B-C0205555', b'B-C1299555', b'I-C1299555', b'B-C0064582', b'I-C0064582', b'B-C0032946', b'I-C0032946', b'B-C0442802', b'B-C0012155', b'B-C3687772', b'B-C0013739', b'B-C2987620', b'B-C0449411', b'I-C0449411', b'B-C0009063', b'I-C0009063', b'B-C3492213', b'I-C3492213', b'B-C0205664', b'B-C0015320', b'B-C0681865', b'B-C0586001', b'B-C2987508', b'B-C0683954', b'B-C0486616', b'B-C1446561', b'B-C0020283', b'B-C0679557', b'B-C0332162', b'I-C0332162', b'I-C0871261', b'B-C4072789', b'I-C4072789', b'B-C0038435', b'B-C0205172', b'B-C0231203', b'B-C0332290', b'B-C0679864', b'B-C0879626', b'B-C0522510', b'B-C0015264', b'B-C0332272', b'B-C0162340', b'B-C0085557', b'I-C0085557', b'B-C0332197', b'B-C0013720', b'I-C0013720', b'B-C0678257', b'B-C0086418', b'B-C0011318', b'B-C0030561', b'B-C0034037', b'B-C0158359', b'I-C0158359', b'B-C0086437', b'I-C0086437', b'B-C0241074', b'I-C0241074', b'B-C0027365', b'I-C0086418', b'B-C0023973', b'B-C3826173', b'I-C0023866', b'B-C1706202', b'B-C0337816', b'B-C0259831', b'B-C0812574', b'I-C0812574', b'B-C0242382', b'I-C0242382', b'B-C0017118', b'B-C0024203', b'B-C0349530', b'I-C0349530', b'B-C0282461', b'I-C0282461', b'B-C1522495', b'I-C1522495', b'B-C0232538', b'I-C0232538', b'B-C0032787', b'I-C0032787', b'B-C3850080', b'I-C3850080', b'B-C0205478', b'B-C1705187', b'B-C0393360', b'I-C0015320', b'B-C0679829', b'I-C0679829', b'B-C0577304', b'I-C0577304', b'B-C0205563', b'I-C0205563', b'B-C0278701', b'I-C0278701', b'B-C3815594', b'I-C0017118', b'B-C0242793', b'I-C0242793', b'B-C1822479', b'I-C1822479', b'B-C0205848', b'B-C4086681', b'I-C4086681', b'B-C0008961', b'I-C0008961', b'B-C0034378', b'I-C0034378', b'B-C0679250', b'I-C0679250', b'B-C0011860', b'I-C0011860', b'B-C1970415', b'I-C1970415', b'B-C3656665', b'I-C3656665', b'B-C0033684', b'B-C0025519', b'B-C2362507', b'I-C2362507', b'B-C0012655', b'I-C0012655', b'B-C0150098', b'I-C0150098', b'I-C0599755', b'B-C0019904', b'B-C0007294', b'I-C0002085', b'B-C0019425', b'B-C1328813', b'B-C1959616', b'B-C1291081', b'I-C1291081', b'B-C1513159', b'I-C1513159', b'B-C2350277', b'I-C2350277', b'B-C0600644', b'B-C0241664', b'B-C0042469', b'B-C0086388', b'I-C0086388', b'I-C0043227', b'B-C3812881', b'I-C3812881', b'B-C0579004', b'I-C0579004', b'B-C0441471', b'B-C1706079', b'B-C0681341', b'I-C0681341', b'B-C0870432', b'B-C0681822', b'I-C0681822', b'I-C0042469', b'B-C0205103', b'B-C1547035', b'B-C1554079', b'B-C1704240', b'B-C0349590', b'B-C0443221', b'B-C0259852', b'B-C0699752', b'B-C0021619', b'B-C0680226', b'B-C1705535', b'B-C0449444', b'B-C0024501', b'B-C1511231', b'B-C0679932', b'B-C0559956', b'B-C0026605', b'B-C1880496', b'B-C0522498', b'B-C0871935', b'B-C1705987', b'B-C0206166', b'B-C1510992', b'B-C2347634', b'B-C1704675', b'B-C0808080', b'B-C0871922', b'I-C0871922', b'B-C0870441', b'B-C0205164', b'B-C2945687', b'B-C1706086', b'B-C1883709', b'B-C0039778', b'I-C0039778', b'B-C0543488', b'B-C1524026', b'I-C1524026', b'B-C0596258', b'I-C0596258', b'B-C0001204', b'B-C0045968', b'B-C0047269', b'I-C0047269', b'B-C0205177', b'B-C0599787', b'B-C0239059', b'I-C0239059', b'B-C0017817', b'B-C1148560', b'B-C1151208', b'I-C1151208', b'B-C0001992', b'I-C0001992', b'B-C0022634', b'I-C0022634', b'B-C0596040', b'I-C0596040', b'B-C0178719', b'B-C0333668', b'B-C0596402', b'B-C0010454', b'I-C0010454', b'B-C0872318', b'I-C0872318', b'B-C0026377', b'B-C0037633', b'B-C0037813', b'I-C0037813', b'B-C3854307', b'B-C0001975', b'I-C0001975', b'I-C1514468', b'B-C0301630', b'B-C1135630', b'I-C1135630', b'B-C1510438', b'B-C0230812', b'I-C0230812', b'B-C0007613', b'B-C1166848', b'I-C1166848', b'B-C0029219', b'I-C0020283', b'B-C0020289', b'I-C0020289', b'B-C0243125', b'B-C0521119', b'B-C0014406', b'B-C0014139', b'B-C0004391', b'B-C0024369', b'B-C1383501', b'B-C0162638', b'B-C0205198', b'B-C0920425', b'I-C0920425', b'B-C1450054', b'B-C0600688', b'I-C0600688', b'B-C1547646', b'I-C3898777', b'I-C0205198', b'I-C1510438', b'B-C0013343', b'I-C0013343', b'B-C0010654', b'B-C0007428', b'B-C0243102', b'B-C1511790', b'B-C1283071', b'B-C0205227', b'B-C0567416', b'B-C0205228', b'B-C1522485', b'B-C0596290', b'I-C0596290', b'B-C0073870', b'I-C0073870', b'B-C1640380', b'I-C1640380', b'B-C1367342', b'B-C1148756', b'I-C1148756', b'B-C0007589', b'B-C0085187', b'B-C1444754', b'B-C2333949', b'I-C2333949', b'B-C3244092', b'I-C3244092', b'I-C1367342', b'B-C1824460', b'B-C2751072', b'I-C2751072', b'B-C0243092', b'I-C0243092', b'B-C2700640', b'B-C0017263', b'I-C0017263', b'I-C0005507', b'B-C0599161', b'I-C0599161', b'I-C0014441', b'B-C1413376', b'I-C1413376', b'I-C0007634', b'B-C0034721', b'I-C0027361', b'B-C0032099', b'I-C0032099', b'B-C0016832', b'B-C0678206', b'B-C0040182', b'B-C0009462', b'B-C0008115', b'B-C0563004', b'I-C0040182', b'B-C0683945', b'I-C0683945', b'B-C0562518', b'B-C0442533', b'B-C0021822', b'B-C1550484', b'B-C0018260', b'I-C0018260', b'B-C2936547', b'I-C2936547', b'B-C0682475', b'I-C0682475', b'I-C0678206', b'B-C0330098', b'I-C0330098', b'B-C0013470', b'B-C0578393', b'B-C1709843', b'B-C0453863', b'B-C0330090', b'I-C0330090', b'B-C2348898', b'I-C2348898', b'B-C0042440', b'I-C0042440', b'B-C2584300', b'B-C2700376', b'I-C2700376', b'B-C1020468', b'I-C1020468', b'B-C0242726', b'B-C0870591', b'B-C0242209', b'B-C0006494', b'B-C0015619', b'B-C1925203', b'I-C1925203', b'B-C2717960', b'B-C0040183', b'B-C0439775', b'I-C0439775', b'B-C0015801', b'I-C0015801', b'B-C0015252', b'B-C0085532', b'I-C0085532', b'B-C0008971', b'B-C0019080', b'B-C0009566', b'B-C0038846', b'B-C0004910', b'I-C0004910', b'B-C1579762', b'I-C1579762', b'B-C0015811', b'B-C0449445', b'B-C4050142', b'I-C4050142', b'B-C0079809', b'B-C1879489', b'B-C0439227', b'B-C0002978', b'B-C0035647', b'B-C0589360', b'I-C0589360', b'B-C0439590', b'I-C0441712', b'B-C0013203', b'I-C0013203', b'B-C1443775', b'I-C1443775', b'B-C1609241', b'B-C0037083', b'B-C1444748', b'I-C1444748', b'B-C0597484', b'B-C0007806', b'B-C0013123', b'I-C0013123', b'B-C1537011', b'B-C0962567', b'B-C0599177', b'B-C2587213', b'I-C0006104', b'B-C0005889', b'B-C3499120', b'I-C3499120', b'B-C1152842', b'B-C0108303', b'I-C0108303', b'B-C1259982', b'B-C1553874', b'B-C0595818', b'B-C0036085', b'I-C0036085', b'B-C1421467', b'B-C1425291', b'B-C1419865', b'B-C0206745', b'I-C0206745', b'B-C1520150', b'I-C1520150', b'B-C2348205', b'B-C0205171', b'B-C1435011', b'B-C1537044', b'B-C0332206', b'B-C0003139', b'I-C0003139', b'B-C3493142', b'B-C0025942', b'B-C0005572', b'I-C1537011', b'B-C2987634', b'B-C0003695', b'I-C0003695', b'B-C1533685', b'B-C0048925', b'B-C1883559', b'B-C0027836', b'I-C0027836', b'B-C0027882', b'B-C1292856', b'B-C0887965', b'I-C0887965', b'B-C0400966', b'I-C0400966', b'B-C3241937', b'I-C3241937', b'B-C0034715', b'I-C0034715', b'B-C0521974', b'B-C1445913', b'I-C1445913', b'B-C0012171', b'B-C0453802', b'B-C0453858', b'B-C0583334', b'I-C0583334', b'B-C0542495', b'B-C1445957', b'B-C0428321', b'I-C0428321', b'B-C0428357', b'B-C0205054', b'B-C1456820', b'I-C1456820', b'B-C0523207', b'I-C0523207', b'B-C0015695', b'I-C0015695', b'B-C0522568', b'I-C0522568', b'B-C0857093', b'I-C0857093', b'B-C0583332', b'B-C1261415', b'B-C1287372', b'B-C1287371', b'B-C0679698', b'I-C0679698', b'B-C1704420', b'I-C1704420', b'B-C0576773', b'B-C0444889', b'I-C0444889', b'B-C0019134', b'I-C0333348', b'B-C0332282', b'B-C0243042', b'I-C0243042', b'B-C1704259', b'I-C1704259', b'B-C2825026', b'I-C2825026', b'B-C0003209', b'I-C0003209', b'I-C1280500', b'B-C0026766', b'I-C0026766', b'B-C1328723', b'I-C1328723', b'B-C0681814', b'B-C1515999', b'I-C1515999', b'B-C0032105', b'B-C0030190', b'I-C0030190', b'B-C1524119', b'B-C2347341', b'I-C2347341', b'B-C0160420', b'I-C0160420', b'B-C0206035', b'I-C0206035', b'B-C1547114', b'B-C0021708', b'I-C0021708', b'B-C0034656', b'B-C1827465', b'B-C0456685', b'B-C1519795', b'B-C0556984', b'I-C0556984', b'B-C1736929', b'B-C3842676', b'B-C3842672', b'B-C0441994', b'I-C3842672', b'I-C3842676', b'B-C0489438', b'I-C0489438', b'B-C3494459', b'I-C3494459', b'B-C0445550', b'B-C0443315', b'B-C0456962', b'B-C0205402', b'I-C1827465', b'B-C0332261', b'B-C0282425', b'B-C0004927', b'B-C0042649', b'I-C0042649', b'B-C0681283', b'I-C0681283', b'B-C0376558', b'B-C0037420', b'B-C1269765', b'B-C0037397', b'I-C0037397', b'B-C0424347', b'B-C0023150', b'B-C0871164', b'I-C0424347', b'I-C0037420', b'B-C0086047', b'I-C1513916', b'B-C0026532', b'B-C0237750', b'B-C0392337', b'B-C0870406', b'B-C0683305', b'B-C0439858', b'I-C0237750', b'B-C0237604', b'I-C0237604', b'B-C0025353', b'I-C0025353', b'I-C0449445', b'B-C0025118', b'B-C2986669', b'I-C2986669', b'B-C0439659', b'B-C1314792', b'I-C1314792', b'B-C3526598', b'B-C3840856', b'I-C3840856', b'B-C1552617', b'B-C0869019', b'B-C1718246', b'I-C1718246', b'B-C0086685', b'I-C0086685', b'B-C0008902', b'B-C0231303', b'B-C0684336', b'B-C0392673', b'B-C0205307', b'B-C0684309', b'I-C0684309', b'B-C0678908', b'B-C0262405', b'I-C0040223', b'I-C0439659', b'B-C1511545', b'B-C1705248', b'B-C0031843', b'I-C0031843', b'B-C2936330', b'I-C2936330', b'B-C0085356', b'I-C0085356', b'B-C0025794', b'B-C0205279', b'B-C1880945', b'I-C1880945', b'B-C0311432', b'B-C0031764', b'B-C0013682', b'B-C0002035', b'I-C0002035', b'B-C0242606', b'I-C0242606', b'B-C3548552', b'I-C3548552', b'B-C2986417', b'B-C1510470', b'B-C0014272', b'I-C0014272', b'B-C0598783', b'I-C0598783', b'B-C1159686', b'I-C1159686', b'B-C0003402', b'B-C2364069', b'I-C2364069', b'B-C1158282', b'I-C1158282', b'B-C1442959', b'B-C0243144', b'I-C0243144', b'I-C1521840', b'B-C0035171', b'B-C0475358', b'I-C0475358', b'B-C0678759', b'B-C0814008', b'I-C0014139', b'B-C1611640', b'I-C1611640', b'B-C1272747', b'B-C0678793', b'I-C0678793', b'B-C0041755', b'I-C0041755', b'B-C0750591', b'B-C0234402', b'B-C0030608', b'I-C0030608', b'B-C0205148', b'B-C0023688', b'B-C1292748', b'B-C3641152', b'B-C0005775', b'I-C0005775', b'B-C0205102', b'B-C0205101', b'B-C2936626', b'I-C2936626', b'B-C0034079', b'I-C0034079', b'B-C0815172', b'I-C0815172', b'B-C0205547', b'B-C3176918', b'I-C3176918', b'B-C0684224', b'B-C0202823', b'I-C0202823', b'B-C0234621', b'B-C0028259', b'B-C0449468', b'B-C0444706', b'B-C0449258', b'B-C0441633', b'I-C0441633', b'B-C0205374', b'B-C0205322', b'B-C0242568', b'B-C0450429', b'B-C0225756', b'I-C0225756', b'B-C0221198', b'B-C3826968', b'I-C3826968', b'B-C0205329', b'B-C0681925', b'I-C0681925', b'B-C0449381', b'B-C0449786', b'I-C0449786', b'B-C0239307', b'B-C4282132', b'B-C1621966', b'B-C2350019', b'I-C2350019', b'B-C3899514', b'I-C3899514', b'B-C1279919', b'B-C0599705', b'B-C1704258', b'B-C0011847', b'B-C0020538', b'B-C1096776', b'B-C0034975', b'I-C0037088', b'B-C0428857', b'I-C0428857', b'B-C1457869', b'B-C0009240', b'B-C1561536', b'B-C0163159', b'B-C0521124', b'B-C0036442', b'B-C0043457', b'I-C0043457', b'B-C0443302', b'B-C0002783', b'I-C0002783', b'B-C2983605', b'B-C1265611', b'B-C0453113', b'I-C0453113', b'B-C0330499', b'B-C0330501', b'I-C0330501', b'B-C0008679', b'I-C0008679', b'B-C0815279', b'I-C0815279', b'B-C0681797', b'I-C0681797', b'B-C0012644', b'B-C0009649', b'I-C0009649', b'B-C0337123', b'I-C0337123', b'B-C0332173', b'B-C0205453', b'B-C0205458', b'B-C1457900', b'B-C0031977', b'B-C0233794', b'I-C0233794', b'B-C1160858', b'I-C1160858', b'B-C0332582', b'B-C0449719', b'B-C0237753', b'B-C1551338', b'B-C0683443', b'I-C0683443', b'B-C0025260', b'I-C0025260', b'B-C1441672', b'B-C0237881', b'B-C0023185', b'B-C1317878', b'B-C0002395', b'I-C0002395', b'B-C0127306', b'B-C0246957', b'B-C1958595', b'B-C0021044', b'B-C0449574', b'B-C1962916', b'B-C0029463', b'B-C1521733', b'I-C1962916', b'B-C3814534', b'I-C3814534', b'B-C0206642', b'I-C0206642', b'B-C0041740', b'I-C0041740', b'B-C0043299', b'B-C0428093', b'B-C1709940', b'B-C0036668', b'I-C0036668', b'B-C0259779', b'I-C0259779', b'B-C0206645', b'I-C0206645', b'B-C0016057', b'B-C0206643', b'I-C0206643', b'B-C4228198', b'I-C4228198', b'I-C0001675', b'B-C0205282', b'B-C0439680', b'B-C0449450', b'B-C1264754', b'I-C1264754', b'B-C0205183', b'B-C0005940', b'I-C0005940', b'B-C0334135', b'B-C0700364', b'B-C0682540', b'B-C0597032', b'I-C0597032', b'B-C0682560', b'B-C0005967', b'I-C0005967', b'B-C0580822', b'B-C1156245', b'I-C1156245', b'I-C1171362', b'B-C1514241', b'B-C0205195', b'B-C0011923', b'B-C1719882', b'B-C0487602', b'I-C0487602', b'B-C1711176', b'B-C0887950', b'B-C0041573', b'B-C0080048', b'I-C0080048', b'B-C0009669', b'I-C0009669', b'B-C0205411', b'B-C0001737', b'I-C0001737', b'B-C0851285', b'B-C0018757', b'I-C0018757', b'B-C0680647', b'B-C3244047', b'B-C0681082', b'B-C0454664', b'B-C0079816', b'I-C0079816', b'B-C0597535', b'B-C0282613', b'I-C0282613', b'B-C1709697', b'I-C1709697', b'B-C0038137', b'B-C0850397', b'I-C0850397', b'B-C1706852', b'B-C1545588', b'I-C0080105', b'B-C0442564', b'B-C0175566', b'B-C0016995', b'B-C0025605', b'B-C0858352', b'I-C0858352', b'B-C0746569', b'I-C0746569', b'B-C0178803', b'B-C0946431', b'I-C0946431', b'B-C0233397', b'I-C0233397', b'B-C0019944', b'B-C0948163', b'B-C3806166', b'I-C3806166', b'B-C0684253', b'B-C0231184', b'B-C0040044', b'I-C0040044', b'B-C0270611', b'I-C0270611', b'B-C1516240', b'B-C0475224', b'B-C0040300', b'B-C2911660', b'I-C2911660', b'B-C0948008', b'I-C0948008', b'B-C0598801', b'B-C4287652', b'I-C4287652', b'B-C0442856', b'B-C4285947', b'I-C4285947', b'B-C0264995', b'I-C0264995', b'B-C1707429', b'B-C0038454', b'I-C1821973', b'B-C0459385', b'I-C0459385', b'B-C0022116', b'I-C0022116', b'B-C1522602', b'I-C1522602', b'B-C1336767', b'I-C1336767', b'B-C0032592', b'B-C0949775', b'I-C0949775', b'B-C0683142', b'I-C0683142', b'B-C2257142', b'I-C2257142', b'B-C0003732', b'I-C0009802', b'B-C1709915', b'I-C1709915', b'B-C1150386', b'I-C1150386', b'B-C1514562', b'I-C1514562', b'B-C0314627', b'I-C0314627', b'B-C0012937', b'I-C0012937', b'B-C1097583', b'I-C1097583', b'B-C0014834', b'I-C0014834', b'B-C0012920', b'I-C0012920', b'B-C0007382', b'B-C0596319', b'B-C0035696', b'B-C1519614', b'B-C0043393', b'B-C0596306', b'B-C2607057', b'B-C0035668', b'B-C0333118', b'B-C0012854', b'B-C1547277', b'I-C1547277', b'B-C2348746', b'I-C2348746', b'B-C1027928', b'I-C1027928', b'B-C0430402', b'I-C0430402', b'B-C2700400', b'B-C0600436', b'B-C1135899', b'I-C1135899', b'B-C0920316', b'B-C0566588', b'B-C0179734', b'I-C0179734', b'B-C2827562', b'B-C0085590', b'B-C1836791', b'I-C1836791', b'B-C0596545', b'B-C0332219', b'B-C1275738', b'B-C1704212', b'B-C0524425', b'B-C0242356', b'B-C1655965', b'B-C0824497', b'B-C1552679', b'I-C1552679', b'B-C0221799', b'B-C0027807', b'B-C0733755', b'B-C0205108', b'B-C3282898', b'B-C0205179', b'B-C1883357', b'B-C1708264', b'B-C0349707', b'B-C0740391', b'I-C0740391', b'B-C0149853', b'I-C0149853', b'B-C0265098', b'I-C0265098', b'B-C1514721', b'B-C2348143', b'B-C0030551', b'B-C0002949', b'I-C0002949', b'B-C4288581', b'B-C0085616', b'B-C0022646', b'B-C0205472', b'B-C0032346', b'I-C0032346', b'B-C0048737', b'I-C0048737', b'B-C0034716', b'I-C0034716', b'B-C0521127', b'B-C0079483', b'I-C0079483', b'B-C0035804', b'B-C0021368', b'B-C1704711', b'B-C0178602', b'B-C1527415', b'B-C0010029', b'I-C0010029', b'B-C1527428', b'B-C0560741', b'I-C0560741', b'B-C0151763', b'B-C1408258', b'I-C1408258', b'B-C0132555', b'B-C0387583', b'B-C0910167', b'B-C0291573', b'B-C0443289', b'B-C0232741', b'B-C0232804', b'I-C0232804', b'B-C0178314', b'I-C0178314', b'B-C0332454', b'B-C0019868', b'I-C0019868', b'B-C0023884', b'B-C0376433', b'I-C0376433', b'B-C1305399', b'B-C0030957', b'I-C0030957', b'B-C0030956', b'B-C3714634', b'I-C3714634', b'B-C0038592', b'B-C1510827', b'B-C0597304', b'I-C0597304', b'B-C2827399', b'B-C1883254', b'B-C0376436', b'I-C0376436', b'B-C1254355', b'I-C1254355', b'B-C1533643', b'I-C1533643', b'B-C2362503', b'I-C2362503', b'B-C0027051', b'I-C0027051', b'B-C0036864', b'I-C0036864', b'B-C2699424', b'B-C1704312', b'I-C1704312', b'B-C0856619', b'I-C0856619', b'I-C2699424', b'B-C0018724', b'I-C0018724', b'B-C0443189', b'B-C1948141', b'I-C1948141', b'I-C2603343', b'I-C0242356', b'B-C1138432', b'B-C0025141', b'B-C1708608', b'B-C3841595', b'I-C3841595', b'B-C1273406', b'B-C1517945', b'B-C0237211', b'I-C0237211', b'B-C0870444', b'B-C1821070', b'I-C1821070', b'B-C0015726', b'B-C0348593', b'B-C0011071', b'I-C0011071', b'B-C1998986', b'I-C1998986', b'B-C0542537', b'B-C0597198', b'B-C0036870', b'I-C0036870', b'B-C0009818', b'B-C0028661', b'B-C0085537', b'I-C0085537', b'B-C0039227', b'I-C0009818', b'B-C0020291', b'B-C0162598', b'B-C0000854', b'B-C0002055', b'B-C0522458', b'B-C0043217', b'I-C0043217', b'B-C0037517', b'B-C3539076', b'B-C3888803', b'I-C3888803', b'B-C0010408', b'I-C0010408', b'B-C0022688', b'I-C0022688', b'B-C0080202', b'I-C0080202', b'B-C0229664', b'I-C0229664', b'B-C2239176', b'I-C2239176', b'B-C1550594', b'B-C0027651', b'B-C0039194', b'I-C0039194', b'B-C2709199', b'I-C2709199', b'B-C0242821', b'B-C0520990', b'B-C2700409', b'B-C0009492', b'I-C0009492', b'B-C0013956', b'B-C0376530', b'I-C0376530', b'B-C1839364', b'I-C1839364', b'B-C0021888', b'I-C0021888', b'B-C0031001', b'B-C2338723', b'B-C0446849', b'I-C0446849', b'I-C0019080', b'B-C3714660', b'B-C0549433', b'I-C0549433', b'B-C1514923', b'B-C0034869', b'B-C0205481', b'B-C0449438', b'B-C2347852', b'I-C2347852', b'B-C1515089', b'I-C1515089', b'B-C1441506', b'B-C4288115', b'I-C4288115', b'B-C0005898', b'B-C2745965', b'B-C1514821', b'B-C0552510', b'B-C0003281', b'I-C0003281', b'B-C3267044', b'I-C3267044', b'B-C0042789', b'B-C0033085', b'B-C0456909', b'B-C0745777', b'B-C0205355', b'B-C3665347', b'I-C3665347', b'B-C0747513', b'I-C0747513', b'B-C0002607', b'B-C0183086', b'B-C0017428', b'I-C0017428', b'B-C0544461', b'B-C0504085', b'B-C0024765', b'B-C2239193', b'B-C1304890', b'B-C0599953', b'I-C0599953', b'B-C2827666', b'B-C0012238', b'B-C0042720', b'I-C0042720', b'B-C3272452', b'I-C3272452', b'B-C0035693', b'I-C0035693', b'B-C0012935', b'I-C0012935', b'B-C0311474', b'I-C0311474', b'I-C0037633', b'B-C3853142', b'B-C0039476', b'B-C0332325', b'B-C1911773', b'I-C1911773', b'B-C0012923', b'I-C0012923', b'B-C0796351', b'B-C4068826', b'B-C0018837', b'B-C1979842', b'B-C0022702', b'B-C0206390', b'B-C0031303', b'B-C0004651', b'B-C2926602', b'B-C0029235', b'B-C0042736', b'I-C0042736', b'B-C2350499', b'B-C0600364', b'B-C0023276', b'I-C0023276', b'B-C4048292', b'B-C0021521', b'I-C0021521', b'B-C1258084', b'I-C1258084', b'B-C0023270', b'B-C0030498', b'B-C0008972', b'I-C0008972', b'B-C0023281', b'B-C0014503', b'B-C0563532', b'B-C2350462', b'I-C2350462', b'B-C0013812', b'B-C0810640', b'B-C0012893', b'I-C0012893', b'B-C0221902', b'B-C0006556', b'B-C0162326', b'I-C0162326', b'B-C0025746', b'I-C0025746', b'I-C0005516', b'B-C0598279', b'I-C0598279', b'B-C2718050', b'I-C2718050', b'B-C3272453', b'I-C3272453', b'B-C2828393', b'B-C0598695', b'I-C0598695', b'B-C0022614', b'B-C1442792', b'B-C1184631', b'B-C0815027', b'B-C0033975', b'B-C2363430', b'I-C2363430', b'B-C0748618', b'B-C0009241', b'I-C0009241', b'B-C0549178', b'B-C0678909', b'I-C0678909', b'B-C0007776', b'B-C0815275', b'B-C0039729', b'B-C0439673', b'B-C2699787', b'B-C0682661', b'I-C0682661', b'B-C0235195', b'B-C0042640', b'B-C0152349', b'B-C1708517', b'B-C0445254', b'B-C0015214', b'I-C0015214', b'B-C0205275', b'B-C2825491', b'B-C0001272', b'B-C0021499', b'I-C0021499', b'B-C0205359', b'B-C3854080', b'B-C2346753', b'B-C0376690', b'I-C0376690', b'B-C2322689', b'I-C2322689', b'B-C0080093', b'B-C1514758', b'I-C0021083', b'B-C0022144', b'B-C0004561', b'B-C0032112', b'I-C0032112', b'B-C0040732', b'B-C0876248', b'I-C0876248', b'B-C0598604', b'I-C0598604', b'B-C0029216', b'I-C0029216', b'I-C0030705', b'B-C0029206', b'B-C0019721', b'I-C0019721', b'B-C0003241', b'B-C1515568', b'B-C1608421', b'I-C1608421', b'B-C0040739', b'B-C1280477', b'B-C0450442', b'I-C0004561', b'B-C0003250', b'B-C0054946', b'B-C0054947', b'B-C0108748', b'B-C0003320', b'B-C1326120', b'B-C1682317', b'I-C1682317', b'B-C2259068', b'I-C2259068', b'B-C0282491', b'I-C0282491', b'B-C0962190', b'B-C2987668', b'B-C1443643', b'I-C1443643', b'B-C0332453', b'B-C0178693', b'I-C0178693', b'B-C0312740', b'I-C0312740', b'B-C1704735', b'B-C0518031', b'B-C0018131', b'B-C1148433', b'I-C1148433', b'B-C0085559', b'I-C0085559', b'B-C0018821', b'I-C0018821', b'B-C1444641', b'I-C1444641', b'I-C0205848', b'B-C1522508', b'B-C2706919', b'B-C2607850', b'I-C1510829', b'B-C2959602', b'I-C2959602', b'I-C1961051', b'B-C0871762', b'B-C2911691', b'B-C0016504', b'B-C0242414', b'B-C2936181', b'I-C2936181', b'B-C0439596', b'B-C1708335', b'I-C1708335', b'B-C0332246', b'B-C1706365', b'B-C1269909', b'B-C0444509', b'B-C0441526', b'B-C0870771', b'B-C1314939', b'B-C0687704', b'B-C0947647', b'B-C0079991', b'I-C0079991', b'B-C1999057', b'B-C0871420', b'I-C0871420', b'B-C0205390', b'B-C0456984', b'B-C0231481', b'I-C0231481', b'B-C0007237', b'B-C0449255', b'B-C0029432', b'I-C0029432', b'B-C0002776', b'B-C1254351', b'I-C1254351', b'B-C2247140', b'I-C2247140', b'B-C0457929', b'I-C0457929', b'B-C0029456', b'B-C1254350', b'I-C1254350', b'I-C0002776', b'I-C0596319', b'B-C0029418', b'B-C1159978', b'I-C1159978', b'B-C0005955', b'I-C0005955', b'B-C3178952', b'I-C3178952', b'B-C0443769', b'I-C0443769', b'B-C0007968', b'I-C0007968', b'B-C0007452', b'B-C0242295', b'B-C1519193', b'I-C1519193', b'I-C0022277', b'B-C0009393', b'I-C0439828', b'B-C0282354', b'B-C1704339', b'B-C0678695', b'B-C0027363', b'I-C0027363', b'B-C0028884', b'I-C0028884', b'B-C0449582', b'B-C0600618', b'B-C0205460', b'B-C0025552', b'B-C0022023', b'B-C4281706', b'B-C1510824', b'B-C0205248', b'B-C0282346', b'B-C0081786', b'B-C0599840', b'B-C1947904', b'B-C0596235', b'B-C2346927', b'B-C1177210', b'B-C2346592', b'B-C2346521', b'B-C0597277', b'B-C3494254', b'B-C0597684', b'B-C0016243', b'B-C0220814', b'B-C0005535', b'I-C1947904', b'B-C0205403', b'B-C1313745', b'I-C1313745', b'B-C1154599', b'I-C1154599', b'B-C0032521', b'I-C0032521', b'B-C0598629', b'B-C0303636', b'B-C0021243', b'I-C0021243', b'B-C0596311', b'B-C0596391', b'I-C0596391', b'B-C0034256', b'I-C0034256', b'B-C0002078', b'B-C3891814', b'I-C3891814', b'B-C0470187', b'B-C0332464', b'B-C1710028', b'B-C2983310', b'B-C0007987', b'I-C0007987', b'B-C1704275', b'B-C0231335', b'B-C0024141', b'I-C0024141', b'B-C0858906', b'I-C0858906', b'B-C0242692', b'I-C0242692', b'B-C0796572', b'I-C0796572', b'B-C0392752', b'B-C0000833', b'B-C1400686', b'I-C1400686', b'B-C1853562', b'B-C0686906', b'I-C0686906', b'B-C1521725', b'B-C1837352', b'B-C0032952', b'B-C0004482', b'B-C0020336', b'B-C0701159', b'B-C0747146', b'I-C0747146', b'B-C0230426', b'I-C0230426', b'B-C0015967', b'B-C0240419', b'I-C0240419', b'B-C0332534', b'I-C0332534', b'B-C0002871', b'B-C0001347', b'I-C0001347', b'B-C1141893', b'I-C1141893', b'B-C4284993', b'I-C4284993', b'B-C0442050', b'I-C0442050', b'B-C0224448', b'I-C0224448', b'B-C0439665', b'B-C0003232', b'I-C0003232', b'B-C1504509', b'I-C1504509', b'B-C0085393', b'I-C0085393', b'B-C0332288', b'B-C1141895', b'I-C1141895', b'B-C0338237', b'I-C0338237', b'B-C3837520', b'I-C3837520', b'B-C1956055', b'I-C1956055', b'B-C0151526', b'I-C0151526', b'B-C0231221', b'B-C2044988', b'I-C2044988', b'B-C2729318', b'B-C0443131', b'B-C3827961', b'I-C3827961', b'B-C0681890', b'B-C0392908', b'I-C0392908', b'B-C0150108', b'B-C1518527', b'I-C1518527', b'B-C0947322', b'B-C0024874', b'B-C0033150', b'B-C0205281', b'B-C0195314', b'I-C0195314', b'B-C0015944', b'I-C0015944', b'B-C0000786', b'I-C0000786', b'B-C0205064', b'B-C0035787', b'I-C0035787', b'B-C0439671', b'B-C2349179', b'I-C2349179', b'B-C0032961', b'B-C0751973', b'B-C0232478', b'I-C0232478', b'B-C0041928', b'B-C2349974', b'I-C2349974', b'B-C0680413', b'B-C3245458', b'I-C1524063', b'B-C0243178', b'I-C0871161', b'B-C4038403', b'B-C2747839', b'B-C0036825', b'I-C0036825', b'B-C4316579', b'I-C4316579', b'B-C2699239', b'I-C2699239', b'B-C0599638', b'I-C0599638', b'I-C0041928', b'B-C0872252', b'B-C1292724', b'B-C0678632', b'I-C0678632', b'B-C2936240', b'B-C1979963', b'I-C0033684', b'B-C2828391', b'B-C2348519', b'B-C0868995', b'I-C0868995', b'B-C0439557', b'I-C0439557', b'I-C0332453', b'B-C0149531', b'I-C0149531', b'I-C0013956', b'B-C0003842', b'B-C0025102', b'I-C0025102', b'B-C0200453', b'I-C0200453', b'B-C0200462', b'B-C0337428', b'B-C1261161', b'I-C1261161', b'B-C0018810', b'I-C0018810', b'B-C0017594', b'I-C0017594', b'B-C0201985', b'I-C0201985', b'B-C0518015', b'B-C0202115', b'B-C0021504', b'I-C0021504', b'B-C0184666', b'I-C0184666', b'B-C0034772', b'I-C0034772', b'B-C0163275', b'B-C0060323', b'B-C0456603', b'I-C0456603', b'B-C0019029', b'B-C1304767', b'I-C1304767', b'B-C2745888', b'I-C2745888', b'B-C0037435', b'I-C0037435', b'B-C0337797', b'B-C3161473', b'B-C1527116', b'B-C2985505', b'I-C2985505', b'B-C0004950', b'B-C0037747', b'B-C0599987', b'B-C2349001', b'B-C0041674', b'B-C0815271', b'B-C2371809', b'I-C2371809', b'B-C0016884', b'B-C4284879', b'I-C4284879', b'B-C0024485', b'I-C0024485', b'B-C0376358', b'I-C0376358', b'B-C0138741', b'I-C0138741', b'B-C1708333', b'I-C1708333', b'I-C0598801', b'B-C0033572', b'B-C0401641', b'I-C0401641', b'B-C0458696', b'I-C0458696', b'B-C1704254', b'B-C3846093', b'I-C3846093', b'B-C0598285', b'I-C0598285', b'B-C0677043', b'B-C0194804', b'I-C0194804', b'I-C0679557', b'B-C1516193', b'I-C1516193', b'B-C0281186', b'I-C0281186', b'B-C0678800', b'B-C2000088', b'B-C0078988', b'B-C0743630', b'I-C0743630', b'B-C0206012', b'B-C0599724', b'I-C0599724', b'B-C0040615', b'B-C1704410', b'I-C0013072', b'B-C0022341', b'B-C0022771', b'B-C0039260', b'B-C0585361', b'I-C0585361', b'B-C1706408', b'B-C1710661', b'I-C1948053', b'B-C2986535', b'I-C2986535', b'B-C0451383', b'I-C0451383', b'B-C0750573', b'B-C0422881', b'I-C0422881', b'B-C1022940', b'I-C1022940', b'B-C4283787', b'B-C0023114', b'B-C0234418', b'I-C0234418', b'B-C0036866', b'I-C0036866', b'B-C0449738', b'B-C0237897', b'B-C3266814', b'B-C0018563', b'B-C3828842', b'B-C1555029', b'B-C0205093', b'B-C3844638', b'B-C0333051', b'B-C1521798', b'B-C1555600', b'I-C1555600', b'B-C1521721', b'B-C2987476', b'B-C3714606', b'B-C1832073', b'B-C0347997', b'I-C0347997', b'B-C1704211', b'B-C0393639', b'I-C0393639', b'B-C0039798', b'B-C0027627', b'I-C0027627', b'B-C0338430', b'I-C0338430', b'B-C0920688', b'I-C0920688', b'B-C0021079', b'I-C0021079', b'B-C0205343', b'B-C1709305', b'B-C0006826', b'B-C3657270', b'B-C1367202', b'B-C0677936', b'I-C0677936', b'B-C0869039', b'I-C0869039', b'B-C4055223', b'I-C4055223', b'B-C0332147', b'B-C1272321', b'I-C1272321', b'B-C0750484', b'B-C3203613', b'I-C3203613', b'I-C0007806', b'B-C2349954', b'B-C0013153', b'B-C4083084', b'I-C4083084', b'B-C0085297', b'I-C0085297', b'B-C0393022', b'B-C0305834', b'I-C0305834', b'B-C0235031', b'I-C0235031', b'B-C2255931', b'I-C2255931', b'B-C0521390', b'I-C0521390', b'B-C0237820', b'B-C1408407', b'I-C1408407', b'B-C0021920', b'B-C1441547', b'B-C0032529', b'B-C1819716', b'I-C1819716', b'I-C0439849', b'B-C1633289', b'I-C1633289', b'B-C1907678', b'I-C1907678', b'B-C1641019', b'I-C1641019', b'B-C3717325', b'I-C3717325', b'B-C0521095', b'B-C1947056', b'B-C0997457', b'I-C0997457', b'B-C1552720', b'B-C0683941', b'I-C0683941', b'B-C0314656', b'I-C1314939', b'B-C0030013', b'I-C0030013', b'B-C0013846', b'I-C0013846', b'B-C0079941', b'I-C0079941', b'B-C0035701', b'I-C0035701', b'B-C0035711', b'I-C0035711', b'B-C1708225', b'B-C0017261', b'B-C0887857', b'I-C0887857', b'B-C0443228', b'B-C1960228', b'B-C0016215', b'B-C0020564', b'B-C0682708', b'I-C0682708', b'B-C0004112', b'B-C0318793', b'B-C0205404', b'B-C0439663', b'B-C1373233', b'I-C1373233', b'B-C0019100', b'I-C0019100', b'B-C0376300', b'I-C0376300', b'B-C1400957', b'I-C1400957', b'B-C1285433', b'I-C1285433', b'B-C1326121', b'I-C1326121', b'B-C0015352', b'I-C0015352', b'B-C1254359', b'B-C0232337', b'I-C0232337', b'B-C1518296', b'B-C0024400', b'I-C0024400', b'B-C0486835', b'I-C0004112', b'B-C1282907', b'I-C0392747', b'B-C0933845', b'B-C0680558', b'I-C0008059', b'B-C0584988', b'I-C0584988', b'B-C0683838', b'B-C0870392', b'B-C0034634', b'B-C1522427', b'B-C1546935', b'B-C0475222', b'B-C0282411', b'B-C2584313', b'B-C0332185', b'B-C0679924', b'B-C0029246', b'I-C0029246', b'B-C0442818', b'B-C1287392', b'B-C0947611', b'B-C1261512', b'B-C1301860', b'B-C1262865', b'B-C3242151', b'B-C0403893', b'I-C0403893', b'B-C0558058', b'B-C4082133', b'B-C0041700', b'B-C0814933', b'I-C0814933', b'B-C1608304', b'I-C1608304', b'B-C1957162', b'B-C1432030', b'B-C1327622', b'B-C0013936', b'I-C0013936', b'B-C1622501', b'I-C1622501', b'B-C3887511', b'B-C0043481', b'B-C0678723', b'B-C1948023', b'B-C0007608', b'I-C0007608', b'B-C1512977', b'I-C1512977', b'B-C0013935', b'B-C0314679', b'B-C3853562', b'B-C4283740', b'B-C0042172', b'B-C1739912', b'B-C1881903', b'B-C1427168', b'B-C0205421', b'B-C3548582', b'B-C1527361', b'B-C0015392', b'B-C0018787', b'B-C0039259', b'B-C0011155', b'B-C1514559', b'B-C0253050', b'B-C0040649', b'I-C0332290', b'B-C2934441', b'B-C0443238', b'B-C0178539', b'B-C4042875', b'B-C3484370', b'B-C0018687', b'B-C0238598', b'I-C0238598', b'B-C0452428', b'B-C3179078', b'I-C3179078', b'B-C0009237', b'B-C0005329', b'B-C2133558', b'I-C2133558', b'B-C4035943', b'I-C4035943', b'B-C0678438', b'I-C0678438', b'B-C0038492', b'B-C0439232', b'B-C2346787', b'B-C0001948', b'B-C0948365', b'I-C0948365', b'B-C1706077', b'I-C1254367', b'B-C0332183', b'B-C0006644', b'B-C0680220', b'B-C0150114', b'B-C0456205', b'B-C0683303', b'I-C0683303', b'B-C1821939', b'I-C1821939', b'I-C0001948', b'B-C1303116', b'I-C1303116', b'B-C0037317', b'I-C0037317', b'B-C0205087', b'B-C0521112', b'B-C0393760', b'I-C0393760', b'B-C0439603', b'B-C3173371', b'B-C1979874', b'B-C0556338', b'B-C1849174', b'I-C1849174', b'B-C0237123', b'I-C0237123', b'B-C0554771', b'I-C0554771', b'B-C0033978', b'I-C0004927', b'B-C0031208', b'B-C0031865', b'B-C1522492', b'B-C0449249', b'I-C0449249', b'B-C0010182', b'I-C0010182', b'B-C0241301', b'I-C0681784', b'B-C0043187', b'B-C0442821', b'B-C1254365', b'I-C1254365', b'B-C0028814', b'B-C0205225', b'B-C0302945', b'B-C3858709', b'B-C0597252', b'B-C0079240', b'I-C0079240', b'B-C1439852', b'B-C0205125', b'B-C2945599', b'B-C2936615', b'I-C2936615', b'B-C1762617', b'B-C2346714', b'B-C1883067', b'B-C1708760', b'B-C0442542', b'I-C0442542', b'B-C0205170', b'B-C2825570', b'I-C2825570', b'B-C0995582', b'B-C0995533', b'I-C0031865', b'B-C0018270', b'I-C0018270', b'B-C0043530', b'B-C1279901', b'B-C0175649', b'B-C0003506', b'I-C0003506', b'B-C2348561', b'I-C2348561', b'B-C0205081', b'B-C0918012', b'B-C4267733', b'I-C4267733', b'B-C1882154', b'B-C0021890', b'I-C0021890', b'B-C0392360', b'I-C0392360', b'B-C0085556', b'I-C0085556', b'B-C0007166', b'I-C0007166', b'B-C0281169', b'I-C0281169', b'B-C1280903', b'B-C0043241', b'I-C0043241', b'B-C1299585', b'I-C1299585', b'B-C0006777', b'I-C0006777', b'I-C0035647', b'B-C0442808', b'B-C1516998', b'I-C1516998', b'B-C0344335', b'I-C0344335', b'B-C0243107', b'B-C0005612', b'I-C0005612', b'B-C2012658', b'I-C2012658', b'B-C0439822', b'I-C0439822', b'B-C1521739', b'B-C0023983', b'I-C0023983', b'B-C0700597', b'I-C0012155', b'B-C2981279', b'B-C1518533', b'B-C0277562', b'I-C0277562', b'B-C4049604', b'B-C0836916', b'I-C0836916', b'B-C0021107', b'B-C1321585', b'I-C1321585', b'B-C0381199', b'I-C0381199', b'B-C0034693', b'B-C1514892', b'B-C0521343', b'B-C0031153', b'B-C0038930', b'B-C1517378', b'B-C1962987', b'B-C0205134', b'B-C0205271', b'B-C0041455', b'I-C0041455', b'B-C0009332', b'I-C0009332', b'B-C0184512', b'B-C4084924', b'I-C4084924', b'B-C0183001', b'I-C0183001', b'B-C2936490', b'I-C2936490', b'B-C1709269', b'B-C0457083', b'B-C0175674', b'B-C0817096', b'B-C0565514', b'B-C0007203', b'I-C0007203', b'B-C1510826', b'B-C0020028', b'I-C0020028', b'B-C1516050', b'B-C4281991', b'I-C4281991', b'B-C0086749', b'I-C0086749', b'B-C3258122', b'I-C3258122', b'B-C0205436', b'B-C0038954', b'I-C0038954', b'B-C0598611', b'I-C0598611', b'B-C0205494', b'B-C0033325', b'B-C0586003', b'I-C0586003', b'B-C1709707', b'B-C1705241', b'B-C1518422', b'I-C0237881', b'B-C2825812', b'B-C0015576', b'B-C0376209', b'B-C3850016', b'I-C3850016', b'B-C1550414', b'I-C1550414', b'I-C0018684', b'B-C0680022', b'B-C0162409', b'B-C0728836', b'I-C0728836', b'B-C1254372', b'I-C1254372', b'B-C1708943', b'B-C0599456', b'B-C1882071', b'B-C0013546', b'I-C0013546', b'I-C1522240', b'B-C1522786', b'B-C2699452', b'I-C2699452', b'I-C0599456', b'B-C0026336', b'B-C0015219', b'I-C1444754', b'B-C2700387', b'B-C0037776', b'B-C2698828', b'I-C2698828', b'B-C3463932', b'I-C1512571', b'I-C0599883', b'B-C2986806', b'I-C1882071', b'B-C0037713', b'I-C0037713', b'B-C2607943', b'I-C3463932', b'B-C0949083', b'I-C0949083', b'B-C1265292', b'I-C1265292', b'B-C0663241', b'B-C0042313', b'B-C0680954', b'I-C0680954', b'B-C1704738', b'I-C1704738', b'B-C0680951', b'B-C0085552', b'I-C0701159', b'B-C0035078', b'I-C0035078', b'B-C2986910', b'B-C0282462', b'I-C0282462', b'B-C1292734', b'I-C1292734', b'B-C1521801', b'B-C0199470', b'I-C0199470', b'B-C3489408', b'I-C3489408', b'B-C0032285', b'B-C0085123', b'I-C0085123', b'B-C1711330', b'B-C0877248', b'I-C0877248', b'B-C1566128', b'B-C0032824', b'I-C0032824', b'I-C0006826', b'B-C0026639', b'I-C0026639', b'B-C0220901', b'B-C0585362', b'I-C0585362', b'I-C1566128', b'B-C0023532', b'I-C0023532', b'B-C1416571', b'B-C1168401', b'I-C1168401', b'B-C0543414', b'I-C0543414', b'B-C0699749', b'I-C0699749', b'B-C0521158', b'I-C0521158', b'B-C0038952', b'B-C0178874', b'B-C0026724', b'I-C0026724', b'B-C0443127', b'I-C0178874', b'B-C1400010', b'I-C1400010', b'B-C1710234', b'B-C2700379', b'B-C0010042', b'I-C0010042', b'B-C0022578', b'B-C4065848', b'B-C0155135', b'I-C0155135', b'B-C0152194', b'I-C0152194', b'B-C0042798', b'I-C0042798', b'B-C0349702', b'I-C0349702', b'I-C4065848', b'B-C0332181', b'I-C0040732', b'I-C0034975', b'B-C0681702', b'I-C0681702', b'B-C0042812', b'I-C0042812', b'B-C0678121', b'B-C0205289', b'B-C0870882', b'I-C0870882', b'B-C0450031', b'I-C0450031', b'B-C0000934', b'B-C0563030', b'B-C0241842', b'I-C0241842', b'B-C1093387', b'I-C1093387', b'B-C0326488', b'I-C0326488', b'B-C0326923', b'I-C0326923', b'B-C0680444', b'B-C1450569', b'I-C1450569', b'I-C0563030', b'B-C0038347', b'B-C0241737', b'B-C3825344', b'B-C1556156', b'I-C3825344', b'I-C2983605', b'B-C1704326', b'I-C1704326', b'B-C0451424', b'I-C0451424', b'B-C0162425', b'B-C0920298', b'I-C0920298', b'B-C0234421', b'B-C0038535', b'B-C0871332', b'I-C0871332', b'B-C0005891', b'I-C0005891', b'B-C0042926', b'I-C0042926', b'B-C0876929', b'B-C0150593', b'B-C0439259', b'B-C0513065', b'B-C0814908', b'B-C2700446', b'I-C0013470', b'I-C0679646', b'B-C0027754', b'B-C0254837', b'I-C0254837', b'B-C0029954', b'I-C0029954', b'B-C0022345', b'I-C0022345', b'B-C0027752', b'B-C0107103', b'B-C0083735', b'B-C0072482', b'B-C0084873', b'B-C0132300', b'B-C1622979', b'I-C1622979', b'B-C0587894', b'I-C0027882', b'B-C3714787', b'B-C0206417', b'I-C0206417', b'B-C1261210', b'I-C1261210', b'B-C0227911', b'B-C0227909', b'B-C0042149', b'B-C0042232', b'B-C0005863', b'I-C0005863', b'B-C0872250', b'B-C1512085', b'I-C1512085', b'B-C1519221', b'I-C1519221', b'B-C1179446', b'I-C1179446', b'B-C0027749', b'I-C0027749', b'B-C0507777', b'I-C0507777', b'B-C1512086', b'I-C1512086', b'B-C3825249', b'I-C3825249', b'B-C0023828', b'B-C1705957', b'B-C0333117', b'B-C0600500', b'I-C0600500', b'B-C0031676', b'B-C0522535', b'I-C0522535', b'I-C0205245', b'B-C3714444', b'I-C3714444', b'B-C0043840', b'B-C0003075', b'I-C0003075', b'B-C0441587', b'B-C0008377', b'B-C1708715', b'B-C1524062', b'B-C3850077', b'B-C3812213', b'I-C3812213', b'I-C3850077', b'B-C0032483', b'B-C0524527', b'I-C0524527', b'B-C0016109', b'I-C0016109', b'B-C0080218', b'I-C0080218', b'B-C0013762', b'I-C0013762', b'B-C0205462', b'B-C0332847', b'B-C1548802', b'B-C0149601', b'B-C0225333', b'B-C0547040', b'B-C0007471', b'B-C0700320', b'B-C0006629', b'B-C1522472', b'B-C1294297', b'I-C1294297', b'B-C1294321', b'I-C1294321', b'B-C1293950', b'I-C1293950', b'B-C0205407', b'B-C1184823', b'I-C1184823', b'B-C0205168', b'I-C1704711', b'B-C0230899', b'I-C0230899', b'B-C0035285', b'I-C0035285', b'B-C1180033', b'I-C1180033', b'B-C0015677', b'B-C0205288', b'I-C0225333', b'B-C0205234', b'B-C0728940', b'B-C1880179', b'B-C0444764', b'B-C0808233', b'B-C0085089', b'B-C0439669', b'B-C2826293', b'I-C2826293', b'B-C4086729', b'I-C4086729', b'I-C0022646', b'B-C1278977', b'I-C1278977', b'I-C0728940', b'B-C0027695', b'B-C1561643', b'I-C1561643', b'B-C0022658', b'I-C0022658', b'B-C0027732', b'B-C2038188', b'I-C2038188', b'B-C0079603', b'B-C0026019', b'I-C0026019', b'B-C0449286', b'B-C0030664', b'B-C1398788', b'I-C1398788', b'B-C0011881', b'I-C0011881', b'B-C3495566', b'I-C3495566', b'B-C0085697', b'I-C0085697', b'B-C3811844', b'I-C3811844', b'B-C2609414', b'B-C0013264', b'I-C0013264', b'B-C0596995', b'B-C2717959', b'B-C0019247', b'I-C0019247', b'I-C0012644', b'B-C0682523', b'I-C0682523', b'B-C0596611', b'B-C3658289', b'I-C3658289', b'B-C1552599', b'B-C0851827', b'B-C0205464', b'B-C0220806', b'I-C0040649', b'B-C0205364', b'B-C1752744', b'B-C3179197', b'B-C1850849', b'I-C1850849', b'B-C1515655', b'I-C1515655', b'B-C0086344', b'I-C0086344', b'B-C1155364', b'B-C1155363', b'I-C1155363', b'B-C1571580', b'B-C1519312', b'B-C2348628', b'B-C1979936', b'B-C0242697', b'B-C4308198', b'B-C1514485', b'B-C1512772', b'I-C1512772', b'B-C0040648', b'I-C0040648', b'B-C0085983', b'I-C0085983', b'I-C0040300', b'B-C2717940', b'I-C2717940', b'I-C4255448', b'B-C0027671', b'I-C0027671', b'B-C1511938', b'I-C1511938', b'B-C1420267', b'B-C0079679', b'B-C1520007', b'B-C1136031', b'I-C1514485', b'B-C3178834', b'I-C3178834', b'B-C0174680', b'I-C0174680', b'B-C0079184', b'I-C0079184', b'B-C4042483', b'B-C1160191', b'I-C1160191', b'B-C1513384', b'I-C1513384', b'B-C0026022', b'I-C0026022', b'B-C0178659', b'I-C0178659', b'B-C0544711', b'B-C0599216', b'I-C0599216', b'B-C0016315', b'B-C0026383', b'B-C0678578', b'B-C0596973', b'B-C1272701', b'B-C1271941', b'I-C1271941', b'B-C0006137', b'I-C0006137', b'B-C3824706', b'I-C3824706', b'B-C3489624', b'I-C3489624', b'B-C1301808', b'I-C1301808', b'B-C0439505', b'B-C0870693', b'I-C0870693', b'I-C0034394', b'B-C3698309', b'I-C3698309', b'B-C0947289', b'B-C0008041', b'I-C0008041', b'B-C0206031', b'I-C0206031', b'B-C0814896', b'I-C0814896', b'B-C0205412', b'B-C0870221', b'B-C0870604', b'B-C0034033', b'I-C0034033', b'B-C0086024', b'B-C0333931', b'I-C0004611', b'B-C2758310', b'I-C2758310', b'B-C0995279', b'B-C0995591', b'I-C0995591', b'B-C1253910', b'B-C2350294', b'B-C0026175', b'B-C0567321', b'I-C0567321', b'I-C0022023', b'B-C0445623', b'B-C0162772', b'I-C0162772', b'B-C0042845', b'I-C0042845', b'B-C0009148', b'B-C0076335', b'B-C0178555', b'B-C0596965', b'I-C0596965', b'B-C0681579', b'I-C0681579', b'B-C0574031', b'B-C0007620', b'I-C0007620', b'B-C2346593', b'I-C2346593', b'B-C0020281', b'I-C0020281', b'B-C0008543', b'B-C0011953', b'I-C0995279', b'B-C0162493', b'I-C0162493', b'I-C0017337', b'B-C1721101', b'I-C1721101', b'B-C0030012', b'B-C0311404', b'B-C0683807', b'B-C0557854', b'B-C1521729', b'I-C1521729', b'B-C0238711', b'B-C0452415', b'I-C0452415', b'B-C0086996', b'I-C0086996', b'B-C0150105', b'I-C0150105', b'B-C0403172', b'B-C0027975', b'I-C0027975', b'B-C0681820', b'I-C0681820', b'B-C0242456', b'B-C0851286', b'B-C0678856', b'B-C0032214', b'I-C0032214', b'B-C0332174', b'B-C4038978', b'I-C4038978', b'I-C0005329', b'B-C0018104', b'B-C3242637', b'B-C0205409', b'B-C4130454', b'I-C4130454', b'B-C1156998', b'B-C0699900', b'B-C0023705', b'I-C0242209', b'B-C2717891', b'B-C0033268', b'B-C0064974', b'B-C0242724', b'B-C0037592', b'B-C1264855', b'I-C1264855', b'B-C3537372', b'I-C3537372', b'B-C1294197', b'I-C1294197', b'B-C0456178', b'B-C2698977', b'I-C0023705', b'I-C0596973', b'B-C0007009', b'B-C0449416', b'I-C0441655', b'I-C1156998', b'B-C2959489', b'I-C2959489', b'B-C0150600', b'B-C0863477', b'I-C0863477', b'B-C0577916', b'I-C0577916', b'B-C0182400', b'B-C0242618', b'I-C0242618', b'B-C3827002', b'I-C3827002', b'B-C2755890', b'I-C2755890', b'B-C0441722', b'B-C0752063', b'B-C0230704', b'I-C0230704', b'B-C0023779', b'I-C0012222', b'B-C0446013', b'I-C0446013', b'B-C0001480', b'B-C1706937', b'B-C0034850', b'B-C0026046', b'B-C0596901', b'B-C0599896', b'B-C1156042', b'I-C1156042', b'B-C3159038', b'I-C3159038', b'I-C0007613', b'B-C0598952', b'I-C0598952', b'B-C0597427', b'I-C0597427', b'B-C1656978', b'I-C1656978', b'B-C0969679', b'B-C1516353', b'B-C0024660', b'B-C1257858', b'I-C1257858', b'B-C1180307', b'B-C0010853', b'B-C0162563', b'I-C0162563', b'B-C1658783', b'I-C1658783', b'B-C0034090', b'I-C0034090', b'B-C0010412', b'I-C0010412', b'B-C0442828', b'B-C0225860', b'I-C0225860', b'B-C2828008', b'B-C0003195', b'I-C0003195', b'B-C1715372', b'I-C1715372', b'B-C0520679', b'I-C0520679', b'B-C1880198', b'B-C0742724', b'I-C0742724', b'B-C3146288', b'I-C3146288', b'B-C0439962', b'B-C1528399', b'I-C1528399', b'B-C2986475', b'B-C0020964', b'B-C1116171', b'I-C0242295', b'B-C0598934', b'I-C0598934', b'B-C0017011', b'B-C1282930', b'B-C2985557', b'B-C0037993', b'B-C0016263', b'I-C0016263', b'B-C0599733', b'B-C0039195', b'I-C0039195', b'B-C0021745', b'I-C0521095', b'B-C1260953', b'B-C0039215', b'I-C0039215', b'B-C1148474', b'I-C1148474', b'B-C0376659', b'I-C0376659', b'B-C1522449', b'B-C0243056', b'I-C0243056', b'B-C1028806', b'I-C1028806', b'B-C1036425', b'I-C1036425', b'B-C1710133', b'B-C0420834', b'B-C0040811', b'B-C0008717', b'B-C0282645', b'I-C0040811', b'B-C0231241', b'I-C0231241', b'B-C0008946', b'B-C0010439', b'B-C1711255', b'B-C0521164', b'B-C0231239', b'I-C0449851', b'B-C1516084', b'B-C2350279', b'I-C2350279', b'B-C0443288', b'B-C0815089', b'I-C0815089', b'B-C1705117', b'B-C0205431', b'B-C1711411', b'B-C0332149', b'B-C0238715', b'B-C3178867', b'B-C0456586', b'I-C0456586', b'B-C0034640', b'B-C0013140', b'B-C0442800', b'B-C1167351', b'I-C1167351', b'B-C0333562', b'B-C1705313', b'B-C0815254', b'B-C0205375', b'B-C0015607', b'I-C0015607', b'B-C0015024', b'B-C0037778', b'B-C1704221', b'I-C1704221', b'B-C0588053', b'B-C3830166', b'B-C0035182', b'B-C0010478', b'B-C0239304', b'B-C3842568', b'B-C0554244', b'I-C0332268', b'B-C0024752', b'B-C0516918', b'I-C0516918', b'B-C0205272', b'B-C1704362', b'B-C1320928', b'I-C1320928', b'B-C0009476', b'B-C0040607', b'I-C0040607', b'B-C2349186', b'B-C0037438', b'B-C0150446', b'B-C0013562', b'I-C0013562', b'B-C0027567', b'B-C0042610', b'B-C0043027', b'B-C4061796', b'I-C4061796', b'B-C0022066', b'B-C0001732', b'B-C0871071', b'B-C1301746', b'B-C0869035', b'B-C0683293', b'B-C0242498', b'I-C0242498', b'B-C2371543', b'I-C2371543', b'B-C2321230', b'I-C2321230', b'B-C1550416', b'I-C1550416', b'B-C0034770', b'B-C2700061', b'I-C2700061', b'B-C0009472', b'I-C0009472', b'B-C0240919', b'B-C0009463', b'I-C0009463', b'B-C0011292', b'I-C0936012', b'B-C1705534', b'I-C1705534', b'B-C0815187', b'I-C0815187', b'I-C0018747', b'B-C0199168', b'I-C0199168', b'B-C0014003', b'B-C0240320', b'I-C0240320', b'B-C0011570', b'B-C0680038', b'B-C0037444', b'I-C0037444', b'B-C0199176', b'B-C0872079', b'B-C0497327', b'B-C0814299', b'B-C0686732', b'I-C0686732', b'B-C2828366', b'B-C0458324', b'I-C0458324', b'B-C2986808', b'B-C1305923', b'B-C3826812', b'I-C3826812', b'B-C1325653', b'I-C1325653', b'B-C0949692', b'I-C0949692', b'I-C1305923', b'B-C0037585', b'I-C0037585', b'B-C0599748', b'I-C0599748', b'B-C2216322', b'I-C2216322', b'B-C4075886', b'I-C4075886', b'B-C0681836', b'I-C0681836', b'B-C0747003', b'I-C0747003', b'B-C0870602', b'I-C0870602', b'B-C0424594', b'B-C0086930', b'I-C0086930', b'B-C1706256', b'I-C1706256', b'B-C1519941', b'B-C4075415', b'I-C4075415', b'B-C1516695', b'B-C1704440', b'B-C0522003', b'I-C0522003', b'B-C1443182', b'B-C0559269', b'B-C1442160', b'B-C0871754', b'B-C1516879', b'I-C0001779', b'B-C0042029', b'B-C0683962', b'I-C0683962', b'B-C4075885', b'I-C4075885', b'I-C2698872', b'B-C4286058', b'I-C4286058', b'I-C0424594', b'B-C0242481', b'I-C0242481', b'B-C1285579', b'I-C1285579', b'B-C0014508', b'B-C0043167', b'B-C0454714', b'B-C0015177', b'I-C0015177', b'B-C0376688', b'I-C0376688', b'I-C2607850', b'B-C1708485', b'I-C1708485', b'B-C0220920', b'B-C0679227', b'I-C0679227', b'B-C0521091', b'I-C0021149', b'B-C0027362', b'I-C0027362', b'B-C0020972', b'I-C0020972', b'B-C1999244', b'B-C0031237', b'I-C0031237', b'B-C0982332', b'I-C0982332', b'B-C0014908', b'B-C0020174', b'B-C0036708', b'B-C0021270', b'B-C0006368', b'B-C0023128', b'B-C0035826', b'B-C0449913', b'B-C0678367', b'B-C1328734', b'B-C1515095', b'I-C1515095', b'B-C0015176', b'B-C0600367', b'I-C0600367', b'B-C0442711', b'B-C0314932', b'I-C0314932', b'B-C0449555', b'I-C0449555', b'B-C1123019', b'B-C0016513', b'B-C0021201', b'B-C0183753', b'I-C0183753', b'B-C0230506', b'I-C0230506', b'B-C0036945', b'B-C1710031', b'B-C2347026', b'B-C3179032', b'I-C3179032', b'I-C0242613', b'B-C0449543', b'B-C0456771', b'I-C0456771', b'I-C0449543', b'B-C0454693', b'I-C0454693', b'B-C1519068', b'I-C1519068', b'B-C0004793', b'B-C0598211', b'B-C0449943', b'I-C0449943', b'B-C0013652', b'I-C0013652', b'B-C2717882', b'B-C2999417', b'I-C2999417', b'I-C0022558', b'B-C0002668', b'B-C0018893', b'I-C0018893', b'B-C0205358', b'B-C0868994', b'B-C0678227', b'B-C0242744', b'B-C0015148', b'I-C0015148', b'B-C0004271', b'B-C2347858', b'B-C0004448', b'B-C0018464', b'B-C0747055', b'B-C0015733', b'B-C0557759', b'B-C1552744', b'I-C1552744', b'B-C0242437', b'B-C0702240', b'B-C1948029', b'B-C2936506', b'B-C0205222', b'B-C0034866', b'B-C0424093', b'B-C3273359', b'B-C0558295', b'B-C0220922', b'B-C0969754', b'I-C0969754', b'B-C1706214', b'B-C0205246', b'B-C0013557', b'B-C0396565', b'I-C0396565', b'B-C0205238', b'B-C1571702', b'B-C0189497', b'I-C0189497', b'B-C0189488', b'I-C0189488', b'B-C0871968', b'B-C0449446', b'I-C0449446', b'B-C0752151', b'B-C0332137', b'I-C0332137', b'B-C0439148', b'B-C0456388', b'I-C0456388', b'B-C1524031', b'I-C1524031', b'B-C2316467', b'B-C0086027', b'I-C0086027', b'B-C0815175', b'I-C0815175', b'I-C0439234', b'B-C0944777', b'I-C0944777', b'B-C0444868', b'B-C0023303', b'I-C0023303', b'B-C0206174', b'I-C0206174', b'B-C0439844', b'B-C0018717', b'B-C0521117', b'I-C0521117', b'B-C2987624', b'B-C0043246', b'B-C1253959', b'I-C1253959', b'B-C0226455', b'I-C0226455', b'B-C0012727', b'B-C0223866', b'I-C0223866', b'B-C0229984', b'B-C0015802', b'I-C0015802', b'B-C0007320', b'I-C0007320', b'B-C3263722', b'B-C1116455', b'I-C1116455', b'B-C0220856', b'B-C1402315', b'I-C1402315', b'B-C0447106', b'I-C0447106', b'B-C0333276', b'I-C0333276', b'B-C0549099', b'B-C1444775', b'B-C0332255', b'I-C0332255', b'B-C0203006', b'I-C0203006', b'B-C0340652', b'I-C0340652', b'B-C2732619', b'B-C0016642', b'I-C0016642', b'B-C0016658', b'B-C3698366', b'I-C3698366', b'B-C0262386', b'B-C3165364', b'I-C3165364', b'B-C0547286', b'I-C0547286', b'B-C1138427', b'I-C1138427', b'B-C1514762', b'B-C0225336', b'I-C0225336', b'B-C0002976', b'I-C0002976', b'B-C0162597', b'I-C0162597', b'B-C1519670', b'I-C1519670', b'B-C0017636', b'B-C1956422', b'I-C1956422', b'B-C0597358', b'B-C0597360', b'B-C0052350', b'B-C0950625', b'B-C0016026', b'I-C0016026', b'B-C1384557', b'I-C1384557', b'B-C1453891', b'B-C0442111', b'B-C0522537', b'B-C0300483', b'B-C1451358', b'B-C1158886', b'I-C0205146', b'B-C0302350', b'B-C0596087', b'B-C1483717', b'I-C1483717', b'B-C0028910', b'I-C0028910', b'B-C0085491', b'I-C0085491', b'B-C1211435', b'I-C1211435', b'B-C1939719', b'I-C1939719', b'B-C1194855', b'I-C1194855', b'B-C1271650', b'I-C1271650', b'B-C0427978', b'B-C2697680', b'B-C0028908', b'B-C0064997', b'B-C0243077', b'B-C0019054', b'B-C0014792', b'B-C0681829', b'I-C0681829', b'B-C0016163', b'B-C0681828', b'I-C0681828', b'I-C0332197', b'I-C3463820', b'B-C0043047', b'B-C4055638', b'I-C4055638', b'B-C0021753', b'B-C1325596', b'I-C1325596', b'B-C0333312', b'B-C2350440', b'B-C0678935', b'B-C0029408', b'B-C0225369', b'B-C1367485', b'B-C0597295', b'I-C0597295', b'B-C1167298', b'I-C1167298', b'I-C0678935', b'B-C0149784', b'I-C0149784', b'B-C0013733', b'B-C2247634', b'I-C2247634', b'I-C0079603', b'I-C0387583', b'B-C0162789', b'I-C0162789', b'B-C0021069', b'B-C0449297', b'B-C1429678', b'B-C0012472', b'B-C0039058', b'I-C0039058', b'B-C1514248', b'I-C1514248', b'B-C0311402', b'B-C0949119', b'B-C0331432', b'B-C0868970', b'I-C0868970', b'B-C1116506', b'B-C0237587', b'B-C1306673', b'I-C1306673', b'B-C0035201', b'B-C0036496', b'I-C0036496', b'I-C0470187', b'I-C0036497', b'B-C0001861', b'B-C1510713', b'I-C1510713', b'B-C2986594', b'I-C2986594', b'B-C3828884', b'I-C3828884', b'B-C1514395', b'I-C1514395', b'B-C0699790', b'I-C0699790', b'B-C0019637', b'I-C0019637', b'B-C0009368', b'B-C1319310', b'I-C1319310', b'B-C0062712', b'I-C0062712', b'B-C1264633', b'I-C1264633', b'B-C0334048', b'I-C0334048', b'B-C1513729', b'B-C0014597', b'I-C0014597', b'B-C0521449', b'B-C0105770', b'B-C0699040', b'B-C0162832', b'B-C1420257', b'B-C0428479', b'B-C0026609', b'B-C0004461', b'B-C0026847', b'I-C0026847', b'B-C1571507', b'I-C1571507', b'B-C0241225', b'B-C4305352', b'I-C4305352', b'B-C1700874', b'B-C1709926', b'I-C1709926', b'B-C0935549', b'I-C0935549', b'B-C0332154', b'B-C0278678', b'I-C0278678', b'B-C1268567', b'I-C1268567', b'B-C0148199', b'I-C0148199', b'B-C2346845', b'B-C2931852', b'I-C2931852', b'B-C2826346', b'B-C1709323', b'I-C1709323', b'B-C1707887', b'B-C0242656', b'B-C1708063', b'I-C1708063', b'B-C0237629', b'I-C0237629', b'B-C0242792', b'I-C0242792', b'B-C2717898', b'B-C1176020', b'B-C0206681', b'I-C0206681', b'B-C0024109', b'B-C0024204', b'I-C0024204', b'B-C0220650', b'I-C0220650', b'B-C0876920', b'B-C0015672', b'B-C1254354', b'I-C1254354', b'B-C0085262', b'I-C0085262', b'B-C0563034', b'I-C0563034', b'B-C2827365', b'B-C0596121', b'I-C0596121', b'B-C0871712', b'B-C0009968', b'B-C0040539', b'B-C0376669', b'I-C0376669', b'B-C1516044', b'B-C0010749', b'I-C0010749', b'B-C0219474', b'B-C2825142', b'I-C0007589', b'B-C1333368', b'B-C1421578', b'B-C0029016', b'I-C0205282', b'B-C0030521', b'I-C0030521', b'B-C0544886', b'I-C0544886', b'B-C0694884', b'B-C1332803', b'B-C0919539', b'B-C0262587', b'I-C0262587', b'B-C0005767', b'B-C0029939', b'I-C1421578', b'B-C0337810', b'B-C0205422', b'B-C0687150', b'I-C0687150', b'B-C0205182', b'B-C3538928', b'B-C0001430', b'B-C0185115', b'B-C1519524', b'I-C1519524', b'B-C1521871', b'B-C1561491', b'B-C0015295', b'I-C0015295', b'B-C1136191', b'I-C1333368', b'B-C0033105', b'B-C1254348', b'I-C1254348', b'B-C1948021', b'B-C0241888', b'B-C0020502', b'B-C0035687', b'I-C0035687', b'B-C0243103', b'B-C0281858', b'I-C0281858', b'B-C0003873', b'I-C0003873', b'B-C0871010', b'B-C0376249', b'B-C0035173', b'I-C1705242', b'B-C4054229', b'I-C4054229', b'B-C2349200', b'I-C0444504', b'B-C0872146', b'I-C0872146', b'B-C1522609', b'B-C3176592', b'B-C2825407', b'I-C0178602', b'B-C0360528', b'I-C0360528', b'B-C3216040', b'I-C3216040', b'B-C0004096', b'B-C3687625', b'B-C0005508', b'B-C0018517', b'B-C0332287', b'B-C1696465', b'B-C0542339', b'B-C0581124', b'B-C0581125', b'B-C0349790', b'I-C0349790', b'B-C0035020', b'B-C3854240', b'B-C1706712', b'I-C1706712', b'B-C3266628', b'B-C0332271', b'B-C3840745', b'I-C3840745', b'B-C0178941', b'I-C0178941', b'B-C0011777', b'B-C0681850', b'B-C0019993', b'B-C3714738', b'B-C3831015', b'B-C0521174', b'B-C0041618', b'B-C0677607', b'I-C0677607', b'B-C0430445', b'B-C0040137', b'I-C0040137', b'B-C0522580', b'B-C1272585', b'B-C1305671', b'B-C0683956', b'I-C0522580', b'I-C1272585', b'I-C0683956', b'B-C1720195', b'B-C3854293', b'I-C2347026', b'B-C0238463', b'I-C0238463', b'I-C1720195', b'B-C0749467', b'I-C0749467', b'B-C1510483', b'I-C1510483', b'B-C0682969', b'I-C0682969', b'B-C3544386', b'B-C0040709', b'B-C0597571', b'I-C0014442', b'B-C0599956', b'B-C0037628', b'B-C0033627', b'I-C0243102', b'B-C0041942', b'B-C0332621', b'B-C1444783', b'B-C0002518', b'I-C0002518', b'B-C0085475', b'I-C0085475', b'I-C0004793', b'I-C0039476', b'B-C0678568', b'I-C1883559', b'B-C2041518', b'I-C2041518', b'B-C0442027', b'B-C0150457', b'I-C0150457', b'B-C0018795', b'I-C0018795', b'B-C0741134', b'B-C1707825', b'B-C3873426', b'I-C3873426', b'B-C0000956', b'B-C0441835', b'I-C0441835', b'B-C0441836', b'I-C0441836', b'B-C0920165', b'I-C0920165', b'B-C1518563', b'B-C0004726', b'B-C1883720', b'B-C1110554', b'I-C1110554', b'B-C0018944', b'B-C1442451', b'B-C0694554', b'I-C0694554', b'B-C3266157', b'B-C0181645', b'B-C0600406', b'B-C0439848', b'B-C0027551', b'B-C0016536', b'B-C0038496', b'I-C0038496', b'B-C1289901', b'I-C1289901', b'B-C0042449', b'B-C0015535', b'I-C0600406', b'B-C0349674', b'B-C0040519', b'B-C1621583', b'I-C0008973', b'B-C0194086', b'I-C0194086', b'B-C0476465', b'I-C0476465', b'B-C0401181', b'I-C0401181', b'B-C0007134', b'I-C0007134', b'B-C0376298', b'I-C1545588', b'B-C0175671', b'B-C1272753', b'B-C1522634', b'B-C2217020', b'I-C2217020', b'B-C2985465', b'B-C3714916', b'I-C3714916', b'B-C0033204', b'B-C0740457', b'I-C0740457', b'B-C0009488', b'B-C4049177', b'I-C4049177', b'B-C0019557', b'I-C0019557', b'B-C0729311', b'I-C0729311', b'B-C0007222', b'I-C0007222', b'B-C0025101', b'B-C2986698', b'I-C2986698', b'B-C0033489', b'I-C0033489', b'I-C2985465', b'B-C3843763', b'I-C3843763', b'B-C1137094', b'I-C1137094', b'B-C2911648', b'B-C0563143', b'B-C1270972', b'I-C1270972', b'B-C0013227', b'B-C0009244', b'B-C2935150', b'B-C0015315', b'B-C0034036', b'B-C1518681', b'I-C1518681', b'B-C0683944', b'I-C0683944', b'B-C0444921', b'I-C0444921', b'B-C0995741', b'I-C0995741', b'B-C0870742', b'I-C0870742', b'B-C1449847', b'I-C1449847', b'B-C0077826', b'B-C0086597', b'B-C0526040', b'I-C0526040', b'B-C0333610', b'B-C0050663', b'B-C1264643', b'B-C0021080', b'B-C1516031', b'I-C1516031', b'B-C1441322', b'I-C1441322', b'B-C1550101', b'I-C1550101', b'B-C3179108', b'I-C3179108', b'B-C0178747', b'B-C0556133', b'I-C0556133', b'B-C0445247', b'I-C0574031', b'B-C0684295', b'I-C0684295', b'B-C1331092', b'B-C0027883', b'B-C0442117', b'B-C0444584', b'I-C0444584', b'B-C0015259', b'B-C1285529', b'B-C1148554', b'B-C0677862', b'I-C0677862', b'B-C0023946', b'B-C0024090', b'B-C1370196', b'B-C0015846', b'B-C0599946', b'B-C0348018', b'B-C0066908', b'I-C0066908', b'B-C1511572', b'B-C0678663', b'B-C1707494', b'B-C0013126', b'B-C0178718', b'B-C0750492', b'B-C4062321', b'I-C4062321', b'B-C1522640', b'B-C2911690', b'I-C2911690', b'B-C0023216', b'I-C0023216', b'B-C0224444', b'I-C0224444', b'B-C1301820', b'B-C0204709', b'I-C0204709', b'B-C0013839', b'B-C0302908', b'B-C1720784', b'I-C1720784', b'B-C0224440', b'B-C0376590', b'I-C0376590', b'B-C0015808', b'I-C0015808', b'B-C0445194', b'I-C0445194', b'B-C3843058', b'I-C3843058', b'B-C3843057', b'I-C3843057', b'B-C0031603', b'I-C0031603', b'B-C0033727', b'B-C0001459', b'I-C0001459', b'B-C0022924', b'B-C0031634', b'B-C4022950', b'I-C4022950', b'B-C0337493', b'B-C1516924', b'I-C1516924', b'B-C1540187', b'B-C1416825', b'B-C0314621', b'I-C0314621', b'B-C0162429', b'B-C0871541', b'I-C0871541', b'B-C0025517', b'I-C0025517', b'B-C1708480', b'I-C1708480', b'B-C0039082', b'B-C0332273', b'I-C1416825', b'B-C0079411', b'B-C1444656', b'B-C0332291', b'I-C0332291', b'B-C0442796', b'B-C1858460', b'B-C0184625', b'I-C0184625', b'B-C1136186', b'I-C1136186', b'B-C1947925', b'B-C0009637', b'B-C0043094', b'B-C0271650', b'I-C0271650', b'B-C0020557', b'I-C1955907', b'B-C0947630', b'B-C0184486', b'I-C0184486', b'B-C2350281', b'I-C2350281', b'B-C1706463', b'B-C0598352', b'B-C0376706', b'B-C0459800', b'B-C0085978', b'B-C0013840', b'I-C0013840', b'B-C0026507', b'I-C0026507', b'B-C0596836', b'B-C2346631', b'B-C0439093', b'I-C0439093', b'B-C3845720', b'B-C0541591', b'I-C0541591', b'B-C0198737', b'I-C0198737', b'I-C0087111', b'I-C0008976', b'B-C0443177', b'B-C0521293', b'I-C0521293', b'B-C0181805', b'B-C1293125', b'I-C1293125', b'B-C0267672', b'I-C0267672', b'B-C1548635', b'B-C4060629', b'I-C4060629', b'B-C3494201', b'I-C3494201', b'B-C0006560', b'I-C0006560', b'B-C0023508', b'I-C0023508', b'B-C1320357', b'I-C1320357', b'B-C0023516', b'B-C0518014', b'B-C0019046', b'B-C3842396', b'I-C3842396', b'B-C0516981', b'I-C0516981', b'I-C0449295', b'B-C0871707', b'I-C0871707', b'I-C0349674', b'B-C0227948', b'I-C0227948', b'B-C0020452', b'B-C0327167', b'I-C0327167', b'I-C0205108', b'B-C0327160', b'B-C0030851', b'B-C1511228', b'I-C1511228', b'B-C1550261', b'B-C0750600', b'B-C1325873', b'B-C0008987', b'B-C0700038', b'I-C0700038', b'B-C0021586', b'B-C0015914', b'B-C0037868', b'B-C1184482', b'B-C0037855', b'B-C0200825', b'I-C0200825', b'B-C1704322', b'B-C0015350', b'I-C0015350', b'B-C0242808', b'B-C0002123', b'B-C0501402', b'I-C0501402', b'B-C1995017', b'B-C0439806', b'B-C0449575', b'I-C0449575', b'B-C1720879', b'I-C1720879', b'B-C0443254', b'B-C1517151', b'I-C1517151', b'B-C0242210', b'I-C0242210', b'B-C0282572', b'I-C0282572', b'I-C0035696', b'B-C0035553', b'B-C0037080', b'B-C0376536', b'I-C0376536', b'B-C0040624', b'B-C1180347', b'I-C1180347', b'B-C0949632', b'I-C0949632', b'B-C1167395', b'B-C3714412', b'B-C1257880', b'I-C1257880', b'B-C3658346', b'B-C0031691', b'B-C0317608', b'I-C0317608', b'B-C2364020', b'B-C0025252', b'I-C0025252', b'B-C0017952', b'I-C0025519', b'B-C0020286', b'B-C0023749', b'I-C0023749', b'B-C1609806', b'B-C0598133', b'B-C0596342', b'B-C0620518', b'I-C0620518', b'B-C3152252', b'I-C3152252', b'B-C1532717', b'B-C0700307', b'B-C1527240', b'B-C0050156', b'I-C0050156', b'B-C0205474', b'B-C2698650', b'B-C0014439', b'B-C0204514', b'I-C0204514', b'B-C0022009', b'B-C4235382', b'I-C4235382', b'B-C0032615', b'I-C0032615', b'B-C0312354', b'I-C0312354', b'B-C1704241', b'B-C0549622', b'I-C0549622', b'B-C0678222', b'I-C0678222', b'B-C0206194', b'B-C0278092', b'I-C0278092', b'B-C0004083', b'B-C1519021', b'B-C4289276', b'I-C4289276', b'B-C4279947', b'I-C4279947', b'B-C1516985', b'I-C1516985', b'B-C3641780', b'B-C3840693', b'I-C3840693', b'B-C0023618', b'I-C0023618', b'B-C1880389', b'B-C0020594', b'I-C0020594', b'B-C1611820', b'B-C0032893', b'B-C0418839', b'I-C0418839', b'B-C0013162', b'B-C0248719', b'B-C0529793', b'B-C0038432', b'B-C0241863', b'B-C0022661', b'I-C0022661', b'I-C0037080', b'B-C0003009', b'I-C0003009', b'B-C0162574', b'I-C0162574', b'B-C1819041', b'B-C0033634', b'I-C0033634', b'B-C0333574', b'I-C0333574', b'B-C1704256', b'I-C1704256', b'B-C0021764', b'B-C0007578', b'I-C0007578', b'B-C0684072', b'I-C0684072', b'B-C0021493', b'I-C0021493', b'B-C1610733', b'I-C1610733', b'I-C3273359', b'B-C0033687', b'B-C0162665', b'B-C1292533', b'I-C1292533', b'B-C0392201', b'I-C0392201', b'B-C0005845', b'B-C0201976', b'B-C0202117', b'B-C3810607', b'B-C3889969', b'B-C3815172', b'B-C0013218', b'I-C0013218', b'B-C0600137', b'B-C0010294', b'B-C0023823', b'B-C0038838', b'B-C0028128', b'I-C0445623', b'I-C2981279', b'I-C0332218', b'B-C1552723', b'I-C1552723', b'I-C0370003', b'B-C0681539', b'I-C0681539', b'B-C0025952', b'I-C0025952', b'B-C0041365', b'I-C0041365', b'B-C0007131', b'I-C0007131', b'B-C0242379', b'I-C0242379', b'B-C1516192', b'I-C1516192', b'I-C0005898', b'B-C0596473', b'I-C0596473', b'B-C0041366', b'I-C0041366', b'B-C3812381', b'B-C3715024', b'B-C1550100', b'I-C1550100', b'B-C0024117', b'I-C0024117', b'B-C0243140', b'B-C0149782', b'I-C0149782', b'B-C0001418', b'I-C1442160', b'I-C0163275', b'B-C0015318', b'I-C0015318', b'B-C0678236', b'I-C0678236', b'B-C0013232', b'I-C0013232', b'B-C0679910', b'I-C0679910', b'B-C0814630', b'B-C0032854', b'B-C0011216', b'I-C0011216', b'B-C0021162', b'I-C0021162', b'B-C0015316', b'B-C4284232', b'B-C0680264', b'B-C2347958', b'B-C0870689', b'I-C0870689', b'B-C0205391', b'I-C0681814', b'B-C0034052', b'I-C0034052', b'B-C1963784', b'B-C0036043', b'I-C0752151', b'B-C1296765', b'I-C1296765', b'B-C1642385', b'B-C0449371', b'I-C0449371', b'B-C0189722', b'B-C0205107', b'B-C0587267', b'B-C0444930', b'B-C0023928', b'B-C0457343', b'B-C0599779', b'I-C0599779', b'B-C0012984', b'B-C0231174', b'B-C0043240', b'B-C0019116', b'B-C0524832', b'I-C0524832', b'B-C0031847', b'B-C0085083', b'I-C0085083', b'B-C0872104', b'I-C0872104', b'B-C1706244', b'B-C0078058', b'I-C0078058', b'B-C1141639', b'I-C1141639', b'B-C0039869', b'B-C0456369', b'B-C0066928', b'I-C0066928', b'I-C0037083', b'B-C0023395', b'B-C0019764', b'B-C0011306', b'I-C0011306', b'B-C0344211', b'B-C1705938', b'B-C1710187', b'B-C1269815', b'B-C0683607', b'B-C0679716', b'I-C0679716', b'B-C1268855', b'I-C1268855', b'B-C0001289', b'B-C0679199', b'B-C1262481', b'I-C1262481', b'B-C0743544', b'I-C0743544', b'B-C1290884', b'I-C1290884', b'B-C0333390', b'I-C0333390', b'I-C0021853', b'B-C0017178', b'I-C0017178', b'B-C0332196', b'B-C0205394', b'B-C0580836', b'B-C0232493', b'I-C0232493', b'B-C0027497', b'B-C0042963', b'B-C0205388', b'B-C0030673', b'B-C1955929', b'B-C0581495', b'B-C0845989', b'I-C0845989', b'B-C1720814', b'I-C1720814', b'B-C1275506', b'I-C1275506', b'B-C0599880', b'I-C0599880', b'B-C0041974', b'I-C0041974', b'B-C0016059', b'B-C1519842', b'I-C1519842', b'B-C2348251', b'B-C1389955', b'B-C1827571', b'B-C3828581', b'I-C0243140', b'I-C0443131', b'B-C0456904', b'B-C0475705', b'I-C0475705', b'B-C0401483', b'I-C0401483', b'B-C0184898', b'B-C0010702', b'B-C4285457', b'I-C4285457', b'B-C1514474', b'I-C1514474', b'I-C0034897', b'I-C0038661', b'B-C0680738', b'I-C0680738', b'B-C1822575', b'I-C1822575', b'B-C0260794', b'I-C0260794', b'B-C0814462', b'I-C0814462', b'B-C0589098', b'I-C2700409', b'B-C3244304', b'I-C3244304', b'B-C0444454', b'B-C3508152', b'B-C0025355', b'I-C0025355', b'B-C0871381', b'I-C0871381', b'B-C0870541', b'I-C0870541', b'B-C0013987', b'B-C0025361', b'B-C0935573', b'I-C0935573', b'B-C0085801', b'I-C0085801', b'B-C3242457', b'I-C3242457', b'B-C0439561', b'I-C0439561', b'B-C0033920', b'I-C0033920', b'B-C0037395', b'I-C0037395', b'B-C0543478', b'I-C0543478', b'B-C2985547', b'I-C2985547', b'B-C0600558', b'I-C0600558', b'B-C0449560', b'B-C0006142', b'I-C0006142', b'B-C0006141', b'B-C1258740', b'I-C1258740', b'B-C0180392', b'B-C1710255', b'I-C1710255', b'B-C4050242', b'I-C4050242', b'B-C0205469', b'B-C3539878', b'I-C3539878', b'B-C2348909', b'I-C2348909', b'B-C0037791', b'B-C0033581', b'B-C0574785', b'I-C0574785', b'B-C0729866', b'I-C0729866', b'B-C0005558', b'B-C1998280', b'I-C1998280', b'B-C2959364', b'I-C2959364', b'B-C0429784', b'B-C0429785', b'I-C0429785', b'B-C0429774', b'I-C0429774', b'B-C1441416', b'I-C1441416', b'B-C0201544', b'I-C0201544', b'B-C1439885', b'B-C0243174', b'B-C0814636', b'I-C0814636', b'B-C0679713', b'I-C0679713', b'B-C3272315', b'I-C3272315', b'B-C0019659', b'B-C0022671', b'I-C0022671', b'B-C0420299', b'I-C0420299', b'B-C0524355', b'B-C0376387', b'I-C0376387', b'B-C1383165', b'I-C1383165', b'B-C1141951', b'I-C1141951', b'B-C0411257', b'B-C0011946', b'B-C0449238', b'I-C1275743', b'B-C0348050', b'I-C0348050', b'B-C0678226', b'I-C0678226', b'B-C3840932', b'I-C3840932', b'B-C0444686', b'B-C1511559', b'B-C3266812', b'B-C0012632', b'B-C0006751', b'B-C0681933', b'I-C0681933', b'B-C1301732', b'B-C0018623', b'I-C0018623', b'B-C1442162', b'B-C1519814', b'B-C1706778', b'B-C0871703', b'B-C1420679', b'B-C1418677', b'I-C1418677', b'B-C1817645', b'I-C1817645', b'B-C0036387', b'I-C0036387', b'B-C0026973', b'I-C0026973', b'B-C0031117', b'I-C0031117', b'B-C1511518', b'I-C1511518', b'B-C0008659', b'I-C0008659', b'B-C0007959', b'I-C0007959', b'B-C1519106', b'I-C1519106', b'B-C0014290', b'B-C1571654', b'I-C1571654', b'B-C0064419', b'I-C0064419', b'B-C0027750', b'I-C0027750', b'B-C0596991', b'I-C1148560', b'B-C0161479', b'I-C0161479', b'B-C1156199', b'I-C1156199', b'B-C3263723', b'B-C0041904', b'B-C1956035', b'I-C1956035', b'B-C0220134', b'I-C0220134', b'B-C3158583', b'I-C3158583', b'B-C1424135', b'B-C1336578', b'B-C1414315', b'B-C0017362', b'B-C1420317', b'B-C1870887', b'I-C1870887', b'B-C0205185', b'B-C0001407', b'B-C0041349', b'I-C0041349', b'I-C2609414', b'B-C0238304', b'I-C0238304', b'I-C0457343', b'B-C1519355', b'B-C0005186', b'B-C2945624', b'I-C2945624', b'B-C0201975', b'B-C1316828', b'I-C1316828', b'B-C1318439', b'B-C1336825', b'I-C1336825', b'B-C2004454', b'B-C0234856', b'B-C0443304', b'I-C0443304', b'B-C1446377', b'I-C1446377', b'B-C1510611', b'I-C1510611', b'B-C0871384', b'I-C0871384', b'B-C3146231', b'I-C3146231', b'B-C0549179', b'B-C0015608', b'I-C0015608', b'B-C0238767', b'B-C0032326', b'B-C0040590', b'B-C0679246', b'B-C0007107', b'I-C0007107', b'B-C0442592', b'B-C0023055', b'I-C0023055', b'B-C0023072', b'I-C0023072', b'B-C0459363', b'I-C0459363', b'B-C0042930', b'I-C0042930', b'B-C0456475', b'I-C0456475', b'B-C4287881', b'I-C4287881', b'B-C0013404', b'I-C0013404', b'B-C0498305', b'I-C0498305', b'B-C0150126', b'I-C0150126', b'B-C0020578', b'B-C4062414', b'I-C4062414', b'B-C0008031', b'I-C0008031', b'B-C0025066', b'B-C2242512', b'I-C2242512', b'B-C0039985', b'I-C0039985', b'B-C0184114', b'I-C0184114', b'B-C4062804', b'I-C4062804', b'B-C0225695', b'I-C0225695', b'B-C0428719', b'I-C0428719', b'B-C0231818', b'I-C0231818', b'B-C0577754', b'I-C0577754', b'B-C0596621', b'I-C0596621', b'B-C0005528', b'B-C1451297', b'I-C1451297', b'B-C0376322', b'B-C0242738', b'I-C0242738', b'B-C0699789', b'B-C1510941', b'B-C0043335', b'B-C0003818', b'B-C0007090', b'B-C2825046', b'B-C1622418', b'B-C2936239', b'I-C2936239', b'B-C1706312', b'B-C1710637', b'B-C0018873', b'B-C1564139', b'I-C0018873', b'B-C0597217', b'I-C0597217', b'I-C0449381', b'B-C0596902', b'B-C0027388', b'B-C0003174', b'B-C0596448', b'B-C1136056', b'I-C1136056', b'B-C1474894', b'I-C1474894', b'I-C0596402', b'B-C0079419', b'B-C0034435', b'B-C0037812', b'B-C0599643', b'I-C0599643', b'B-C1708235', b'B-C1010821', b'B-C0596890', b'B-C1881878', b'B-C0600495', b'B-C0038477', b'B-C0062496', b'B-C0005029', b'B-C0032150', b'I-C0032150', b'B-C0034423', b'B-C0003374', b'B-C1511636', b'B-C0015877', b'I-C0015877', b'B-C0456387', b'I-C0456387', b'B-C0053139', b'B-C2718003', b'B-C0870238', b'I-C0243072', b'I-C0026377', b'I-C1704675', b'B-C0311403', b'B-C0439282', b'B-C0008269', b'B-C2363980', b'B-C1979928', b'B-C0018966', b'B-C0034424', b'B-C1148616', b'I-C1148616', b'<START>', b'<STOP>']\n"
          ],
          "name": "stdout"
        }
      ]
    },
    {
      "cell_type": "markdown",
      "metadata": {
        "id": "t5g4gIOQXRf5"
      },
      "source": [
        "You can choose the embeddings. The ideal is the following combination:FlairEmbeddings('pubmed-forward'), FlairEmbeddings('pubmed-backward'), WordEmbeddings(\"pubmed\"). But due to memory issues just WordEmbeddings(\"pubmed\") is the best choice."
      ]
    },
    {
      "cell_type": "code",
      "metadata": {
        "id": "gHkfSkqRP9Zh",
        "colab": {
          "base_uri": "https://localhost:8080/"
        },
        "outputId": "86e1ccf4-3a59-46e4-9fab-f1a839e3926c"
      },
      "source": [
        "embeddings : StackedEmbeddings = StackedEmbeddings([\n",
        "                                        WordEmbeddings('glove'),\n",
        "                                        #FlairEmbeddings('news-forward'),\n",
        "                                        #FlairEmbeddings('news-backward')\n",
        "                                       ])"
      ],
      "execution_count": null,
      "outputs": [
        {
          "output_type": "stream",
          "text": [
            "2021-05-05 14:36:35,255 https://flair.informatik.hu-berlin.de/resources/embeddings/token/glove.gensim.vectors.npy not found in cache, downloading to /tmp/tmplmshuu0k\n"
          ],
          "name": "stdout"
        },
        {
          "output_type": "stream",
          "text": [
            "100%|██████████| 160000128/160000128 [00:17<00:00, 9353451.79B/s]"
          ],
          "name": "stderr"
        },
        {
          "output_type": "stream",
          "text": [
            "2021-05-05 14:36:53,201 copying /tmp/tmplmshuu0k to cache at /root/.flair/embeddings/glove.gensim.vectors.npy\n"
          ],
          "name": "stdout"
        },
        {
          "output_type": "stream",
          "text": [
            "\n"
          ],
          "name": "stderr"
        },
        {
          "output_type": "stream",
          "text": [
            "2021-05-05 14:36:53,522 removing temp file /tmp/tmplmshuu0k\n",
            "2021-05-05 14:36:55,680 https://flair.informatik.hu-berlin.de/resources/embeddings/token/glove.gensim not found in cache, downloading to /tmp/tmpj5dyl74c\n"
          ],
          "name": "stdout"
        },
        {
          "output_type": "stream",
          "text": [
            "100%|██████████| 21494764/21494764 [00:04<00:00, 4994067.85B/s]"
          ],
          "name": "stderr"
        },
        {
          "output_type": "stream",
          "text": [
            "2021-05-05 14:37:00,815 copying /tmp/tmpj5dyl74c to cache at /root/.flair/embeddings/glove.gensim\n",
            "2021-05-05 14:37:00,847 removing temp file /tmp/tmpj5dyl74c\n"
          ],
          "name": "stdout"
        },
        {
          "output_type": "stream",
          "text": [
            "\n"
          ],
          "name": "stderr"
        }
      ]
    },
    {
      "cell_type": "code",
      "metadata": {
        "id": "BHhfke98g0Gu"
      },
      "source": [
        "#from gensim.models import KeyedVectors\n",
        "#word2vec = KeyedVectors.load_word2vec_format(EMBEDDING_FILE, binary=True)\n",
        "#x = word2vec.word_vec(\"test\")\n",
        "#EMBEDDING_FILE = '/root/input/GoogleNews-vectors-negative300.bin.gz'"
      ],
      "execution_count": null,
      "outputs": []
    },
    {
      "cell_type": "code",
      "metadata": {
        "id": "IxOcl_JiQ5e_",
        "colab": {
          "base_uri": "https://localhost:8080/"
        },
        "outputId": "1cc2b5b4-3f0f-46d5-fde1-6cf5543fe9c4"
      },
      "source": [
        "from flair.models import SequenceTagger\n",
        "\n",
        "tagger : SequenceTagger = SequenceTagger(hidden_size=256,\n",
        "                                       embeddings=embeddings,\n",
        "                                       tag_dictionary=tag_dictionary,\n",
        "                                       tag_type=tag_type,\n",
        "                                       use_crf=True)\n",
        "print(tagger)\n"
      ],
      "execution_count": null,
      "outputs": [
        {
          "output_type": "stream",
          "text": [
            "SequenceTagger(\n",
            "  (embeddings): StackedEmbeddings(\n",
            "    (list_embedding_0): WordEmbeddings('glove')\n",
            "  )\n",
            "  (word_dropout): WordDropout(p=0.05)\n",
            "  (locked_dropout): LockedDropout(p=0.5)\n",
            "  (embedding2nn): Linear(in_features=100, out_features=100, bias=True)\n",
            "  (rnn): LSTM(100, 64, batch_first=True, bidirectional=True)\n",
            "  (linear): Linear(in_features=128, out_features=5937, bias=True)\n",
            "  (beta): 1.0\n",
            "  (weights): None\n",
            "  (weight_tensor) None\n",
            ")\n"
          ],
          "name": "stdout"
        }
      ]
    },
    {
      "cell_type": "code",
      "metadata": {
        "id": "s7ckA2WKRLhX",
        "colab": {
          "base_uri": "https://localhost:8080/",
          "height": 1000
        },
        "outputId": "35dc558d-9339-459c-a9bb-68b7a6f2977d"
      },
      "source": [
        "from flair.trainers import ModelTrainer\n",
        "trainer : ModelTrainer = ModelTrainer(tagger, corpus)\n",
        "trainer.train('/content/drive/MyDrive/medNer',\n",
        "              learning_rate=0.1,\n",
        "              mini_batch_size=16,\n",
        "              max_epochs=10)"
      ],
      "execution_count": null,
      "outputs": [
        {
          "output_type": "stream",
          "text": [
            "2021-05-05 14:37:05,499 ----------------------------------------------------------------------------------------------------\n",
            "2021-05-05 14:37:05,502 Model: \"SequenceTagger(\n",
            "  (embeddings): StackedEmbeddings(\n",
            "    (list_embedding_0): WordEmbeddings('glove')\n",
            "  )\n",
            "  (word_dropout): WordDropout(p=0.05)\n",
            "  (locked_dropout): LockedDropout(p=0.5)\n",
            "  (embedding2nn): Linear(in_features=100, out_features=100, bias=True)\n",
            "  (rnn): LSTM(100, 64, batch_first=True, bidirectional=True)\n",
            "  (linear): Linear(in_features=128, out_features=5937, bias=True)\n",
            "  (beta): 1.0\n",
            "  (weights): None\n",
            "  (weight_tensor) None\n",
            ")\"\n",
            "2021-05-05 14:37:05,505 ----------------------------------------------------------------------------------------------------\n",
            "2021-05-05 14:37:05,509 Corpus: \"Corpus: 941 train + 380 dev + 381 test sentences\"\n",
            "2021-05-05 14:37:05,512 ----------------------------------------------------------------------------------------------------\n",
            "2021-05-05 14:37:05,517 Parameters:\n",
            "2021-05-05 14:37:05,519  - learning_rate: \"0.1\"\n",
            "2021-05-05 14:37:05,522  - mini_batch_size: \"16\"\n",
            "2021-05-05 14:37:05,525  - patience: \"3\"\n",
            "2021-05-05 14:37:05,528  - anneal_factor: \"0.5\"\n",
            "2021-05-05 14:37:05,530  - max_epochs: \"10\"\n",
            "2021-05-05 14:37:05,534  - shuffle: \"True\"\n",
            "2021-05-05 14:37:05,536  - train_with_dev: \"False\"\n",
            "2021-05-05 14:37:05,538  - batch_growth_annealing: \"False\"\n",
            "2021-05-05 14:37:05,541 ----------------------------------------------------------------------------------------------------\n",
            "2021-05-05 14:37:05,543 Model training base path: \"/content/drive/MyDrive/medNer\"\n",
            "2021-05-05 14:37:05,546 ----------------------------------------------------------------------------------------------------\n",
            "2021-05-05 14:37:05,548 Device: cuda:0\n",
            "2021-05-05 14:37:05,551 ----------------------------------------------------------------------------------------------------\n",
            "2021-05-05 14:37:05,553 Embeddings storage mode: cpu\n",
            "2021-05-05 14:37:05,569 ----------------------------------------------------------------------------------------------------\n"
          ],
          "name": "stdout"
        },
        {
          "output_type": "error",
          "ename": "RuntimeError",
          "evalue": "ignored",
          "traceback": [
            "\u001b[0;31m---------------------------------------------------------------------------\u001b[0m",
            "\u001b[0;31mRuntimeError\u001b[0m                              Traceback (most recent call last)",
            "\u001b[0;32m<ipython-input-9-245b5291ba87>\u001b[0m in \u001b[0;36m<module>\u001b[0;34m()\u001b[0m\n\u001b[1;32m      5\u001b[0m               \u001b[0mlearning_rate\u001b[0m\u001b[0;34m=\u001b[0m\u001b[0;36m0.1\u001b[0m\u001b[0;34m,\u001b[0m\u001b[0;34m\u001b[0m\u001b[0;34m\u001b[0m\u001b[0m\n\u001b[1;32m      6\u001b[0m               \u001b[0mmini_batch_size\u001b[0m\u001b[0;34m=\u001b[0m\u001b[0;36m16\u001b[0m\u001b[0;34m,\u001b[0m\u001b[0;34m\u001b[0m\u001b[0;34m\u001b[0m\u001b[0m\n\u001b[0;32m----> 7\u001b[0;31m               max_epochs=10)\n\u001b[0m",
            "\u001b[0;32m/usr/local/lib/python3.7/dist-packages/flair/trainers/trainer.py\u001b[0m in \u001b[0;36mtrain\u001b[0;34m(self, base_path, learning_rate, mini_batch_size, mini_batch_chunk_size, max_epochs, scheduler, cycle_momentum, anneal_factor, patience, initial_extra_patience, min_learning_rate, train_with_dev, train_with_test, monitor_train, monitor_test, embeddings_storage_mode, checkpoint, save_final_model, anneal_with_restarts, anneal_with_prestarts, batch_growth_annealing, shuffle, param_selection_mode, write_weights, num_workers, sampler, use_amp, amp_opt_level, eval_on_train_fraction, eval_on_train_shuffle, save_model_at_each_epoch, **kwargs)\u001b[0m\n\u001b[1;32m    379\u001b[0m \u001b[0;34m\u001b[0m\u001b[0m\n\u001b[1;32m    380\u001b[0m                         \u001b[0;31m# forward pass\u001b[0m\u001b[0;34m\u001b[0m\u001b[0;34m\u001b[0m\u001b[0;34m\u001b[0m\u001b[0m\n\u001b[0;32m--> 381\u001b[0;31m                         \u001b[0mloss\u001b[0m \u001b[0;34m=\u001b[0m \u001b[0mself\u001b[0m\u001b[0;34m.\u001b[0m\u001b[0mmodel\u001b[0m\u001b[0;34m.\u001b[0m\u001b[0mforward_loss\u001b[0m\u001b[0;34m(\u001b[0m\u001b[0mbatch_step\u001b[0m\u001b[0;34m)\u001b[0m\u001b[0;34m\u001b[0m\u001b[0;34m\u001b[0m\u001b[0m\n\u001b[0m\u001b[1;32m    382\u001b[0m \u001b[0;34m\u001b[0m\u001b[0m\n\u001b[1;32m    383\u001b[0m                         \u001b[0;31m# Backward\u001b[0m\u001b[0;34m\u001b[0m\u001b[0;34m\u001b[0m\u001b[0;34m\u001b[0m\u001b[0m\n",
            "\u001b[0;32m/usr/local/lib/python3.7/dist-packages/flair/models/sequence_tagger_model.py\u001b[0m in \u001b[0;36mforward_loss\u001b[0;34m(self, data_points, sort)\u001b[0m\n\u001b[1;32m    636\u001b[0m     ) -> torch.tensor:\n\u001b[1;32m    637\u001b[0m         \u001b[0mfeatures\u001b[0m \u001b[0;34m=\u001b[0m \u001b[0mself\u001b[0m\u001b[0;34m.\u001b[0m\u001b[0mforward\u001b[0m\u001b[0;34m(\u001b[0m\u001b[0mdata_points\u001b[0m\u001b[0;34m)\u001b[0m\u001b[0;34m\u001b[0m\u001b[0;34m\u001b[0m\u001b[0m\n\u001b[0;32m--> 638\u001b[0;31m         \u001b[0;32mreturn\u001b[0m \u001b[0mself\u001b[0m\u001b[0;34m.\u001b[0m\u001b[0m_calculate_loss\u001b[0m\u001b[0;34m(\u001b[0m\u001b[0mfeatures\u001b[0m\u001b[0;34m,\u001b[0m \u001b[0mdata_points\u001b[0m\u001b[0;34m)\u001b[0m\u001b[0;34m\u001b[0m\u001b[0;34m\u001b[0m\u001b[0m\n\u001b[0m\u001b[1;32m    639\u001b[0m \u001b[0;34m\u001b[0m\u001b[0m\n\u001b[1;32m    640\u001b[0m     \u001b[0;32mdef\u001b[0m \u001b[0mforward\u001b[0m\u001b[0;34m(\u001b[0m\u001b[0mself\u001b[0m\u001b[0;34m,\u001b[0m \u001b[0msentences\u001b[0m\u001b[0;34m:\u001b[0m \u001b[0mList\u001b[0m\u001b[0;34m[\u001b[0m\u001b[0mSentence\u001b[0m\u001b[0;34m]\u001b[0m\u001b[0;34m)\u001b[0m\u001b[0;34m:\u001b[0m\u001b[0;34m\u001b[0m\u001b[0;34m\u001b[0m\u001b[0m\n",
            "\u001b[0;32m/usr/local/lib/python3.7/dist-packages/flair/models/sequence_tagger_model.py\u001b[0m in \u001b[0;36m_calculate_loss\u001b[0;34m(self, features, sentences)\u001b[0m\n\u001b[1;32m    772\u001b[0m             \u001b[0mtags\u001b[0m\u001b[0;34m,\u001b[0m \u001b[0m_\u001b[0m \u001b[0;34m=\u001b[0m \u001b[0mpad_tensors\u001b[0m\u001b[0;34m(\u001b[0m\u001b[0mtag_list\u001b[0m\u001b[0;34m)\u001b[0m\u001b[0;34m\u001b[0m\u001b[0;34m\u001b[0m\u001b[0m\n\u001b[1;32m    773\u001b[0m \u001b[0;34m\u001b[0m\u001b[0m\n\u001b[0;32m--> 774\u001b[0;31m             \u001b[0mforward_score\u001b[0m \u001b[0;34m=\u001b[0m \u001b[0mself\u001b[0m\u001b[0;34m.\u001b[0m\u001b[0m_forward_alg\u001b[0m\u001b[0;34m(\u001b[0m\u001b[0mfeatures\u001b[0m\u001b[0;34m,\u001b[0m \u001b[0mlengths\u001b[0m\u001b[0;34m)\u001b[0m\u001b[0;34m\u001b[0m\u001b[0;34m\u001b[0m\u001b[0m\n\u001b[0m\u001b[1;32m    775\u001b[0m             \u001b[0mgold_score\u001b[0m \u001b[0;34m=\u001b[0m \u001b[0mself\u001b[0m\u001b[0;34m.\u001b[0m\u001b[0m_score_sentence\u001b[0m\u001b[0;34m(\u001b[0m\u001b[0mfeatures\u001b[0m\u001b[0;34m,\u001b[0m \u001b[0mtags\u001b[0m\u001b[0;34m,\u001b[0m \u001b[0mlengths\u001b[0m\u001b[0;34m)\u001b[0m\u001b[0;34m\u001b[0m\u001b[0;34m\u001b[0m\u001b[0m\n\u001b[1;32m    776\u001b[0m \u001b[0;34m\u001b[0m\u001b[0m\n",
            "\u001b[0;32m/usr/local/lib/python3.7/dist-packages/flair/models/sequence_tagger_model.py\u001b[0m in \u001b[0;36m_forward_alg\u001b[0;34m(self, feats, lens_)\u001b[0m\n\u001b[1;32m    956\u001b[0m                     \u001b[0memit_score\u001b[0m\u001b[0;34m[\u001b[0m\u001b[0;34m:\u001b[0m\u001b[0;34m,\u001b[0m \u001b[0;34m:\u001b[0m\u001b[0;34m,\u001b[0m \u001b[0;32mNone\u001b[0m\u001b[0;34m]\u001b[0m\u001b[0;34m.\u001b[0m\u001b[0mrepeat\u001b[0m\u001b[0;34m(\u001b[0m\u001b[0;36m1\u001b[0m\u001b[0;34m,\u001b[0m \u001b[0;36m1\u001b[0m\u001b[0;34m,\u001b[0m \u001b[0mtransitions\u001b[0m\u001b[0;34m.\u001b[0m\u001b[0mshape\u001b[0m\u001b[0;34m[\u001b[0m\u001b[0;36m2\u001b[0m\u001b[0;34m]\u001b[0m\u001b[0;34m)\u001b[0m\u001b[0;34m\u001b[0m\u001b[0;34m\u001b[0m\u001b[0m\n\u001b[1;32m    957\u001b[0m                     \u001b[0;34m+\u001b[0m \u001b[0mtransitions\u001b[0m\u001b[0;34m\u001b[0m\u001b[0;34m\u001b[0m\u001b[0m\n\u001b[0;32m--> 958\u001b[0;31m                     \u001b[0;34m+\u001b[0m \u001b[0mforward_var\u001b[0m\u001b[0;34m[\u001b[0m\u001b[0;34m:\u001b[0m\u001b[0;34m,\u001b[0m \u001b[0mi\u001b[0m\u001b[0;34m,\u001b[0m \u001b[0;34m:\u001b[0m\u001b[0;34m]\u001b[0m\u001b[0;34m[\u001b[0m\u001b[0;34m:\u001b[0m\u001b[0;34m,\u001b[0m \u001b[0;34m:\u001b[0m\u001b[0;34m,\u001b[0m \u001b[0;32mNone\u001b[0m\u001b[0;34m]\u001b[0m\u001b[0;34m\u001b[0m\u001b[0;34m\u001b[0m\u001b[0m\n\u001b[0m\u001b[1;32m    959\u001b[0m                     \u001b[0;34m.\u001b[0m\u001b[0mrepeat\u001b[0m\u001b[0;34m(\u001b[0m\u001b[0;36m1\u001b[0m\u001b[0;34m,\u001b[0m \u001b[0;36m1\u001b[0m\u001b[0;34m,\u001b[0m \u001b[0mtransitions\u001b[0m\u001b[0;34m.\u001b[0m\u001b[0mshape\u001b[0m\u001b[0;34m[\u001b[0m\u001b[0;36m2\u001b[0m\u001b[0;34m]\u001b[0m\u001b[0;34m)\u001b[0m\u001b[0;34m\u001b[0m\u001b[0;34m\u001b[0m\u001b[0m\n\u001b[1;32m    960\u001b[0m                     \u001b[0;34m.\u001b[0m\u001b[0mtranspose\u001b[0m\u001b[0;34m(\u001b[0m\u001b[0;36m2\u001b[0m\u001b[0;34m,\u001b[0m \u001b[0;36m1\u001b[0m\u001b[0;34m)\u001b[0m\u001b[0;34m\u001b[0m\u001b[0;34m\u001b[0m\u001b[0m\n",
            "\u001b[0;31mRuntimeError\u001b[0m: CUDA out of memory. Tried to allocate 2.10 GiB (GPU 0; 11.17 GiB total capacity; 8.59 GiB already allocated; 94.81 MiB free; 10.69 GiB reserved in total by PyTorch)"
          ]
        }
      ]
    },
    {
      "cell_type": "markdown",
      "metadata": {
        "id": "w1LTqPVZYQgd"
      },
      "source": [
        "LOAD MODEL"
      ]
    },
    {
      "cell_type": "code",
      "metadata": {
        "id": "V8vJYHLMYMjp"
      },
      "source": [
        "from flair.data import Sentence\n",
        "from flair.models import SequenceTagger\n",
        "# load the trained model\n",
        "model = SequenceTagger.load('/content/drive/MyDrive/UNI INFOR/Cuarto/HP/9.Flair/final-model.pt')\n"
      ],
      "execution_count": null,
      "outputs": []
    },
    {
      "cell_type": "markdown",
      "metadata": {
        "id": "nM0P8lD0Ycyx"
      },
      "source": [
        "RESULTS"
      ]
    },
    {
      "cell_type": "code",
      "metadata": {
        "id": "a1XUZnfzYZRA"
      },
      "source": [
        "from segtok.segmenter import split_single\n",
        "#read file\n",
        "Text=\"/content/drive/MyDrive/UNI INFOR/Cuarto/HP/9.Flair/eusko-jaurlaritza.txt\"\n",
        "with open(Text, \"r\") as file1:\n",
        "    FileasList = file1.readlines()\n",
        "TextStr= FileasList[0]\n",
        "\n",
        "#NER\n",
        "#2.Whole text predict\n",
        "TextStrAll=Sentence(TextStr)\n",
        "model.predict(TextStrAll)\n",
        "print(TextStrAll.to_tagged_string())"
      ],
      "execution_count": null,
      "outputs": []
    }
  ]
}